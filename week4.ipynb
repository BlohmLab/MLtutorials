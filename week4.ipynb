{
 "cells": [
  {
   "cell_type": "markdown",
   "metadata": {},
   "source": [
    "## Week 3: Gradients and Optimization"
   ]
  },
  {
   "cell_type": "markdown",
   "metadata": {},
   "source": [
    "### Outline\n",
    "- Gradient descent\n",
    "- Stochasticity, the explore-exploit tradeoff, global vs. local\n",
    "- Numerical vs. analytic vs. automatic differentiation\n",
    "- Automatic differentiation and machine learning"
   ]
  },
  {
   "cell_type": "code",
   "execution_count": 4,
   "metadata": {},
   "outputs": [],
   "source": [
    "import numpy as np\n",
    "import matplotlib.pyplot as plt\n",
    "import seaborn as sns\n",
    "\n",
    "%matplotlib inline\n",
    "sns.set(font_scale=1.)\n",
    "sns.set_style('white')"
   ]
  },
  {
   "cell_type": "markdown",
   "metadata": {},
   "source": [
    "### Gradient Descent\n"
   ]
  },
  {
   "cell_type": "markdown",
   "metadata": {},
   "source": [
    "- Falling down a parabola deterministically\n",
    "- Local minima: falling down the wrong side of a quartic\n",
    "- Stochasticity and \"tunneling\"\n",
    "- Multiple dimensions: fastest descent = gradient; Wiki image\n",
    "- Real situations (can't analytically solve for minima)\n",
    "- The parabola is the cost function, not the generating function! The generating function can have arbitrarily complex inputs and outputs. Cost functions map arbitrarily complex inputs to scalars."
   ]
  },
  {
   "cell_type": "markdown",
   "metadata": {},
   "source": [
    "$$L(\\theta) = \\theta^2$$"
   ]
  },
  {
   "cell_type": "code",
   "execution_count": 20,
   "metadata": {},
   "outputs": [],
   "source": [
    "def loss(theta):\n",
    "    loss = theta ** 2\n",
    "    return loss"
   ]
  },
  {
   "cell_type": "code",
   "execution_count": 21,
   "metadata": {
    "scrolled": true
   },
   "outputs": [
    {
     "data": {
      "image/png": "[encoded data removed]",
      "text/plain": [
       "<Figure size 432x288 with 1 Axes>"
      ]
     },
     "metadata": {},
     "output_type": "display_data"
    }
   ],
   "source": [
    "bounds = (-5, 5)\n",
    "N_plot = 100\n",
    "\n",
    "theta_plot = np.linspace(*bounds, N_plot)\n",
    "loss_plot = loss(theta_plot)\n",
    "\n",
    "plt.plot(theta_plot, loss_plot, ':')\n",
    "plt.show()"
   ]
  },
  {
   "cell_type": "markdown",
   "metadata": {},
   "source": [
    "It's pretty obvious what the minimum is, and we can solve it analytically with almost no effort."
   ]
  },
  {
   "cell_type": "markdown",
   "metadata": {},
   "source": [
    "\\begin{align}\n",
    "\\frac{dL}{d\\theta} &= 2\\theta \\\\\n",
    "0 &= 2\\theta \\\\\n",
    "0 &= \\theta\n",
    "\\end{align}"
   ]
  },
  {
   "cell_type": "code",
   "execution_count": 35,
   "metadata": {},
   "outputs": [],
   "source": [
    "def loss_d(theta):\n",
    "    loss_d = 2 * theta\n",
    "    return loss_d"
   ]
  },
  {
   "cell_type": "markdown",
   "metadata": {},
   "source": [
    "Let's say we can't solve it by setting to 0 (usually true), and assume it's too costly to check every possible grid point (curse of dimensionality!), e.g. choose the minimum in `loss_plot` after evaluating at `N_plot` points.\n",
    "\n",
    "Often we have an initial estimate for the value of the parameter, and can calculate the loss function and the derivative of the loss function at that point."
   ]
  },
  {
   "cell_type": "markdown",
   "metadata": {},
   "source": [
    "## TODO: direction of tangent"
   ]
  },
  {
   "cell_type": "code",
   "execution_count": 39,
   "metadata": {},
   "outputs": [],
   "source": [
    "def tangent(theta, width=0.5, N=25):\n",
    "    theta_r = np.linspace(theta - width, theta + width, N)\n",
    "    m = loss_d(theta)\n",
    "    b = loss(theta) - m * theta\n",
    "    def line(theta):\n",
    "        return m * theta + b\n",
    "    return theta_r, line(theta_r)"
   ]
  },
  {
   "cell_type": "code",
   "execution_count": 74,
   "metadata": {},
   "outputs": [
    {
     "name": "stdout",
     "output_type": "stream",
     "text": [
      "Derivative of loss: 8\n"
     ]
    },
    {
     "data": {
      "image/png": "[encoded data removed]",
      "text/plain": [
       "<Figure size 432x288 with 1 Axes>"
      ]
     },
     "metadata": {},
     "output_type": "display_data"
    }
   ],
   "source": [
    "theta_0 = 4  # starting point\n",
    "loss_0 = loss(theta_0)\n",
    "print(\"Derivative of loss: {}\".format(loss_d(theta_0)))\n",
    "\n",
    "plt.plot(theta_plot, loss_curve, ':', alpha=0.5)\n",
    "plt.plot(theta_0, loss_0, 'ro')  \n",
    "plt.plot(*tangent(theta_0))\n",
    "plt.show()"
   ]
  },
  {
   "cell_type": "markdown",
   "metadata": {},
   "source": [
    "The derivative at this point is 8. This is positive, if we move in the direction of positive $\\theta$, the loss will increase, which is the opposite of what we want. \n",
    "\n",
    "By negating the derivative, its sign corresponds to the desired $\\theta$ direction. In this case, -8 is negative, which means \"move in the negative $\\theta$ direction\". But by how much? Say we move by -8. \n",
    "\n",
    "<img src='./img/tangent-1.png'>"
   ]
  },
  {
   "cell_type": "markdown",
   "metadata": {},
   "source": [
    "Our new position is $\\theta=-4$, and the derivative is -8. Clearly if we move by $\\Delta\\theta=-(-8)=+8$, we'll be back where we started. Unless we take smaller steps, we'll never reach the minimum. \n",
    "\n",
    "There is no obvious connection between the magnitude of the derivative and the magnitude of the step we should take. Consider that if the loss has units $[L]$ and $\\theta$ has units $[\\theta]$, the derivative of the loss has units $[L]/[\\theta]$, which are not additive with units of $[\\theta]$. The sign tells us what direction to take to find the minimum, but not how far to go. That is usually unknown."
   ]
  },
  {
   "cell_type": "markdown",
   "metadata": {},
   "source": [
    "Therefore, to control how far to move, we take steps of $\\eta\\frac{dL}{d\\theta}$, where $\\eta$ is the factor (called the *learning rate*) by which we scale the derivative to calculate our step size. \n",
    "\n",
    "In this case, it seems reasonable to choose a value $0<\\eta<1$. Let's say we start at our original point and choose $\\eta=0.25$. (In this case $\\eta=0.5$ is optimal since a step size of $0.5(8)=4$ will land us right on the minimum---but we don't normally have this information!)"
   ]
  },
  {
   "cell_type": "code",
   "execution_count": 60,
   "metadata": {},
   "outputs": [],
   "source": [
    "learn_rate = 0.25"
   ]
  },
  {
   "cell_type": "markdown",
   "metadata": {},
   "source": [
    "Our update rule is:\n",
    "$$\\theta_{n+1}=\\theta_n - \\eta\\frac{dL}{d\\theta}$$"
   ]
  },
  {
   "cell_type": "code",
   "execution_count": 61,
   "metadata": {},
   "outputs": [],
   "source": [
    "def update_theta(theta, learn_rate): \n",
    "    theta = theta - learn_rate * loss_d(theta)  # participant\n",
    "    return theta"
   ]
  },
  {
   "cell_type": "code",
   "execution_count": 97,
   "metadata": {},
   "outputs": [],
   "source": [
    "# start the iterations (steps) at our original estimate\n",
    "theta = theta_0\n",
    "loss_after = loss_0"
   ]
  },
  {
   "cell_type": "code",
   "execution_count": 99,
   "metadata": {},
   "outputs": [
    {
     "name": "stdout",
     "output_type": "stream",
     "text": [
      "Derivative of loss at $\theta=1.0$: 2.0\n",
      "Change in loss across step: -3.0\n"
     ]
    },
    {
     "data": {
      "image/png": "[encoded data removed]",
      "text/plain": [
       "<Figure size 432x288 with 1 Axes>"
      ]
     },
     "metadata": {},
     "output_type": "display_data"
    }
   ],
   "source": [
    "# single step per cell execution\n",
    "loss_before = loss_after\n",
    "theta = update_theta(theta, learn_rate)  \n",
    "loss_after = loss(theta)\n",
    "\n",
    "loss_change = loss_after - loss_before\n",
    "\n",
    "print(\"Derivative of loss at $\\theta={}$: {}\".format(theta, loss_d(theta)))\n",
    "print(\"Change in loss across step: {}\".format(loss_change))\n",
    "\n",
    "plt.plot(theta_plot, loss_curve, ':', alpha=0.5)\n",
    "plt.plot(theta, loss_after, 'ro')\n",
    "plt.plot(*tangent(theta))"
   ]
  },
  {
   "cell_type": "markdown",
   "metadata": {},
   "source": [
    "This is Zeno's paradox. We'll never quite reach the minimum (at a constant learning rate), but we can get close enough for any practical purpose."
   ]
  },
  {
   "cell_type": "markdown",
   "metadata": {},
   "source": [
    "### Local minima"
   ]
  },
  {
   "cell_type": "code",
   "execution_count": 140,
   "metadata": {},
   "outputs": [],
   "source": [
    "def loss(theta):\n",
    "    loss = (0.9 * theta**4) + (4 * theta**3) + (5.7 * theta**2) + (3 * theta)\n",
    "    return loss"
   ]
  },
  {
   "cell_type": "code",
   "execution_count": 141,
   "metadata": {
    "scrolled": true
   },
   "outputs": [
    {
     "data": {
      "image/png": "[encoded data removed]",
      "text/plain": [
       "<Figure size 432x288 with 1 Axes>"
      ]
     },
     "metadata": {},
     "output_type": "display_data"
    }
   ],
   "source": [
    "bounds = (-2.5, 0.25)\n",
    "N_plot = 100\n",
    "\n",
    "theta_plot = np.linspace(*bounds, N_plot)\n",
    "loss_plot = loss(theta_plot)\n",
    "\n",
    "plt.plot(theta_plot, loss_plot, ':')\n",
    "plt.show()"
   ]
  },
  {
   "cell_type": "code",
   "execution_count": null,
   "metadata": {},
   "outputs": [],
   "source": [
    "TODO: getting trapped"
   ]
  },
  {
   "cell_type": "markdown",
   "metadata": {},
   "source": [
    "How to solve?\n",
    "- Increase learning rate. But won't help in this case! (Step large enough to jump out is also large enough to jump back in, so the global minimum is not stably optimized.)\n",
    "- Stochasticity. Add some uncertainty to the optimization.\n",
    "- Learning rate tradeoff: too small = too long; too large = too variable/higher final error\n",
    "- (Speed-accuracy tradeoff)"
   ]
  },
  {
   "cell_type": "code",
   "execution_count": null,
   "metadata": {},
   "outputs": [],
   "source": [
    "### Multidimensional case\n",
    "- Typical\n",
    "    - Curse of dimensionality: Usually easy to check the entire range in the 1D case.\n",
    "- Gradient instead of derivative: \n",
    "    - Extension of reasoning about signs (moving down a hyperplane)\n",
    "    - *Relative* magnitudes of different parts of the gradient matter."
   ]
  },
  {
   "cell_type": "markdown",
   "metadata": {},
   "source": [
    "### Stochastic gradient descent\n",
    "- Use subsets of dataset rather than full dataset\n",
    "- Approximation of \"true\" gradient"
   ]
  },
  {
   "cell_type": "markdown",
   "metadata": {},
   "source": [
    "### Types of differentiation\n",
    "#### Analytic\n",
    "As above.\n",
    "#### Numerical\n",
    "Finite differences etc.\n",
    "#### Automatic\n",
    "Chain rule. Connection to backprop?"
   ]
  },
  {
   "cell_type": "code",
   "execution_count": null,
   "metadata": {},
   "outputs": [],
   "source": []
  }
 ],
 "metadata": {
  "celltoolbar": "Slideshow",
  "kernelspec": {
   "display_name": "Python 3",
   "language": "python",
   "name": "python3"
  },
  "language_info": {
   "codemirror_mode": {
    "name": "ipython",
    "version": 3
   },
   "file_extension": ".py",
   "mimetype": "text/x-python",
   "name": "python",
   "nbconvert_exporter": "python",
   "pygments_lexer": "ipython3",
   "version": "3.7.2"
  }
 },
 "nbformat": 4,
 "nbformat_minor": 2
}
