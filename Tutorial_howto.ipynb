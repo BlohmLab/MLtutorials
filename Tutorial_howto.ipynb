{
 "cells": [
  {
   "cell_type": "markdown",
   "metadata": {
    "slideshow": {
     "slide_type": "slide"
    }
   },
   "source": [
    "# Howto Colab tutorials\n",
    "### (ML in Python)\n",
    "------\n",
    "Gunnar Blohm"
   ]
  },
  {
   "cell_type": "markdown",
   "metadata": {
    "slideshow": {
     "slide_type": "slide"
    }
   },
   "source": [
    "### Outline\n",
    "<img style=\"float: right; width:200px;\" src=\"stuff/Overview.png\">  \n",
    "\n",
    "* instructors:\n",
    "    - make slides\n",
    "    - share materials\n",
    "* procedures for participants"
   ]
  },
  {
   "cell_type": "markdown",
   "metadata": {
    "slideshow": {
     "slide_type": "slide"
    }
   },
   "source": [
    "### for instructors\n",
    "* Jupyter Notebook has a \"slide\" option that produces HTML5 slides\n",
    "    - [read more about it](https://medium.com/@mjspeck/presenting-code-using-jupyter-notebook-slides-a8a3c3b59d67)\n",
    "* install Reveal.js - Jupyter/IPython Slideshow Extension (RISE)\n",
    "    - [install and use](https://rise.readthedocs.io/en/maint-5.5/index.html)\n"
   ]
  },
  {
   "cell_type": "markdown",
   "metadata": {
    "slideshow": {
     "slide_type": "subslide"
    }
   },
   "source": [
    "### for instructors\n",
    "* share slides through Github!\n",
    "    - create project & upload materials (Git --> GitHub)\n",
    "    - ensures links to pictures, code, etc. work (not easily the case with Drive)\n",
    "    - all materials must be in same (or sub-) directory of Notebook\n"
   ]
  },
  {
   "cell_type": "markdown",
   "metadata": {
    "slideshow": {
     "slide_type": "slide"
    }
   },
   "source": [
    "### for participants\n",
    "* pre-requisites\n",
    "    - Python programming\n",
    "    - basic knowledge in Linear Algebra, Probability / Statistics, Optimization\n",
    "    - Google account (for Colab)\n",
    "* start tutorials\n",
    "    - download code from Github into Colab: File>>Open Notebook>>Github...\n",
    "    - "
   ]
  },
  {
   "cell_type": "markdown",
   "metadata": {
    "slideshow": {
     "slide_type": "subslide"
    }
   },
   "source": [
    "### for participants\n",
    "* import data\n",
    "    - small data --> included in tutorial files (GitHub)\n",
    "    - large data --> through own computer or google drive\n",
    "    \n",
    "    from google.colab import drive  \n",
    "    drive.mount('/content/drive')\n",
    "    \n",
    "    or\n",
    "    \n",
    "    from google.colab import files  \n",
    "    files.upload()\n",
    "    \n",
    "    then\n",
    "    \n",
    "    import pandas as pd  \n",
    "    df=pd.read_csv('filename.csv')"
   ]
  },
  {
   "cell_type": "markdown",
   "metadata": {
    "slideshow": {
     "slide_type": "subslide"
    }
   },
   "source": [
    "### for participants\n",
    "\n",
    "* even easier: On the left bar of any colaboratory there is a section called \"Files\". Upload your files\n",
    "    \n",
    "    Then:\n",
    "    \n",
    "    import pandas as pd  \n",
    "    d = pd.read_csv('/content/filename.csv')"
   ]
  },
  {
   "cell_type": "markdown",
   "metadata": {
    "slideshow": {
     "slide_type": "slide"
    }
   },
   "source": [
    "### let's consider a code example"
   ]
  },
  {
   "cell_type": "code",
   "execution_count": 4,
   "metadata": {
    "slideshow": {
     "slide_type": "fragment"
    }
   },
   "outputs": [
    {
     "data": {
      "image/png": "[encoded data removed]",
      "text/plain": [
       "<Figure size 432x288 with 1 Axes>"
      ]
     },
     "metadata": {
      "needs_background": "light"
     },
     "output_type": "display_data"
    }
   ],
   "source": [
    "import numpy as np\n",
    "import matplotlib.pyplot as plt\n",
    "X = np.random.uniform(0,50,100)\n",
    "Y = np.random.uniform(0,20,100)\n",
    "\n",
    "plt.plot(X,Y,'bo')\n",
    "plt.show()"
   ]
  }
 ],
 "metadata": {
  "celltoolbar": "Slideshow",
  "kernelspec": {
   "display_name": "Python 3",
   "language": "python",
   "name": "python3"
  },
  "language_info": {
   "codemirror_mode": {
    "name": "ipython",
    "version": 3
   },
   "file_extension": ".py",
   "mimetype": "text/x-python",
   "name": "python",
   "nbconvert_exporter": "python",
   "pygments_lexer": "ipython3",
   "version": "3.6.8"
  }
 },
 "nbformat": 4,
 "nbformat_minor": 2
}
