{
 "cells": [
  {
   "cell_type": "markdown",
   "metadata": {
    "slideshow": {
     "slide_type": "slide"
    }
   },
   "source": [
    "<div class=\"jumbotron jumbotron-fluid\">\n",
    "  <div class=\"container\">\n",
    "    <h1 class=\"display-4\">Machine Learning</h1>\n",
    "    <h2 class=\"display-4\">Introduction: Part I</h1>\n",
    "  </div>\n",
    "</div>"
   ]
  },
  {
   "cell_type": "markdown",
   "metadata": {
    "slideshow": {
     "slide_type": "slide"
    }
   },
   "source": [
    "## Outline\n",
    "- What tasks can ML systems/models learn to perform?\n",
    "- How do we determine model performance?\n",
    "- How do ML systems experience the data they learn from?\n",
    "- What are the limitations on learning?"
   ]
  },
  {
   "cell_type": "markdown",
   "metadata": {
    "slideshow": {
     "slide_type": "slide"
    }
   },
   "source": [
    "## What is machine learning?"
   ]
  },
  {
   "cell_type": "markdown",
   "metadata": {
    "slideshow": {
     "slide_type": "slide"
    }
   },
   "source": [
    "## What is a machine?"
   ]
  },
  {
   "cell_type": "markdown",
   "metadata": {
    "slideshow": {
     "slide_type": "fragment"
    }
   },
   "source": [
    "<img src='./img/danger.png'>"
   ]
  },
  {
   "cell_type": "markdown",
   "metadata": {
    "slideshow": {
     "slide_type": "slide"
    }
   },
   "source": [
    "## What is learning?\n",
    "<div class=\"alert alert-block alert-info\">\n",
    "    <b>Improving <i>performance</i> (P) on some class of <i>tasks</i> (T) given <i>experience</i> (E).</b>\n",
    "</div>"
   ]
  },
  {
   "cell_type": "markdown",
   "metadata": {
    "slideshow": {
     "slide_type": "fragment"
    }
   },
   "source": [
    "<img src='./img/learning-1.svg' style='width: 50%;'/>"
   ]
  },
  {
   "cell_type": "markdown",
   "metadata": {
    "slideshow": {
     "slide_type": "notes"
    }
   },
   "source": [
    "You can mostly stick to this figure for now, and most ML models are simple enough or have well-defined inputs and outputs, and the \"model\" can be treated as a mathematical function or set of functions.\n",
    "However, the state of the art in ML is largely about learning to learn (or meta-learning)."
   ]
  },
  {
   "cell_type": "markdown",
   "metadata": {
    "slideshow": {
     "slide_type": "slide"
    }
   },
   "source": [
    "## The task, $T$\n",
    "<div class=\"alert alert-block alert-warning\">\n",
    "    <b>What is the system learning to do?</b> \n",
    "</div>"
   ]
  },
  {
   "cell_type": "markdown",
   "metadata": {
    "slideshow": {
     "slide_type": "fragment"
    }
   },
   "source": [
    "- Walking\n",
    "- Holding a cup\n",
    "- Avoiding an obstacle"
   ]
  },
  {
   "cell_type": "markdown",
   "metadata": {
    "slideshow": {
     "slide_type": "subslide"
    }
   },
   "source": [
    "## The task, $T$\n",
    "\n",
    "ML systems processing *examples* composed of _features_\n",
    "  - Typically vectors $\\mathbf{x}\\in\\mathbb{R}^n$ with $n$ features\n",
    "<div class=\"alert alert-block alert-warning\">\n",
    "\\begin{equation*}\n",
    "f:\\mathbb{R}^n\\rightarrow ?\n",
    "\\end{equation*}\n",
    "</div>\n",
    "<img src='./img/learning-1.svg' style='width: 50%;'/>"
   ]
  },
  {
   "cell_type": "markdown",
   "metadata": {
    "slideshow": {
     "slide_type": "subslide"
    }
   },
   "source": [
    "### Classification\n",
    "<div class=\"alert alert-block alert-info\">\n",
    "    <b>Which of $k$ categories does an input belong to?</b>\n",
    "<br><br>\n",
    "\\begin{equation*}\n",
    "f:\\mathbb{R}^n\\rightarrow\\{1,\\dots,k\\}\n",
    "\\end{equation*}\n",
    "</div>"
   ]
  },
  {
   "cell_type": "markdown",
   "metadata": {
    "slideshow": {
     "slide_type": "fragment"
    }
   },
   "source": [
    "- May also output distribution over classes\n",
    "- Missing values (learn *set* of functions)\n",
    "- Anomaly detection (e.g. spam, credit card fraud)"
   ]
  },
  {
   "cell_type": "markdown",
   "metadata": {
    "slideshow": {
     "slide_type": "notes"
    }
   },
   "source": [
    "Example: 2D input space and segmentation.    \n",
    "MNIST is 784D input space.    \n",
    "Manifolds: change in small number of pixels leaves number relatively intact    "
   ]
  },
  {
   "cell_type": "markdown",
   "metadata": {
    "slideshow": {
     "slide_type": "subslide"
    }
   },
   "source": [
    "<img src='./img/MNIST.jpg'>\n",
    "(Liu <i>et al.</i>, 2003)"
   ]
  },
  {
   "cell_type": "markdown",
   "metadata": {
    "slideshow": {
     "slide_type": "subslide"
    }
   },
   "source": [
    "<img src='./img/MNIST.gif'>\n",
    "(see <a href='https://inclass.kaggle.com/arunkumarramanan/awesome-ml-frameworks-and-mnist-classification'>this post</a>)"
   ]
  },
  {
   "cell_type": "markdown",
   "metadata": {
    "slideshow": {
     "slide_type": "notes"
    }
   },
   "source": [
    "What it *doesn't* do: understand numbers or math. Only shapes. This is all we require it to learn."
   ]
  },
  {
   "cell_type": "markdown",
   "metadata": {
    "slideshow": {
     "slide_type": "subslide"
    }
   },
   "source": [
    "<img src='./img/classification.png'>\n",
    "(Goodfellow <i>et al.</i>)"
   ]
  },
  {
   "cell_type": "markdown",
   "metadata": {
    "slideshow": {
     "slide_type": "subslide"
    }
   },
   "source": [
    "### Classification in neuroscience\n",
    "- Neuron type from electrophysiology data\n",
    "- Disease state from neuroimaging data (e.g. tumour in structural MRI)\n",
    "- Arbitrary classes (e.g. \"currently reaching\" vs. \"resting\") from brain measurements (correlational!)"
   ]
  },
  {
   "cell_type": "markdown",
   "metadata": {
    "slideshow": {
     "slide_type": "subslide"
    }
   },
   "source": [
    "<img src='./img/gcn.png'>\n",
    "(Arslan <i>et al.</i>, 2018)"
   ]
  },
  {
   "cell_type": "markdown",
   "metadata": {
    "slideshow": {
     "slide_type": "subslide"
    }
   },
   "source": [
    "### Regression\n",
    "<div class=\"alert alert-block alert-info\">\n",
    "    <b>What value (of some quantity) is associated with a given input?</b>\n",
    "<br><br>\n",
    "\\begin{equation*}\n",
    "f:\\mathbb{R}^n\\rightarrow\\mathbb{R}\n",
    "\\end{equation*}\n",
    "</div>"
   ]
  },
  {
   "cell_type": "markdown",
   "metadata": {
    "slideshow": {
     "slide_type": "fragment"
    }
   },
   "source": [
    "- Firing rate, survival time, gene expression..."
   ]
  },
  {
   "cell_type": "markdown",
   "metadata": {
    "slideshow": {
     "slide_type": "subslide"
    }
   },
   "source": [
    "### Structured output\n",
    "- Output is a vector or some other structure with relationships between members.\n",
    "  <br>$\\rightarrow$ Technically subsumes all other mapping tasks."
   ]
  },
  {
   "cell_type": "markdown",
   "metadata": {
    "slideshow": {
     "slide_type": "fragment"
    }
   },
   "source": [
    "- Examples:\n",
    "  - Partition of input (e.g. image segmentation)\n",
    "  - Image captioning\n",
    "  - Parsing sentences"
   ]
  },
  {
   "cell_type": "markdown",
   "metadata": {
    "slideshow": {
     "slide_type": "subslide"
    }
   },
   "source": [
    "<img src='./img/parsing.png'>\n",
    "(Jurafsky & Martin, 2017)"
   ]
  },
  {
   "cell_type": "markdown",
   "metadata": {
    "slideshow": {
     "slide_type": "subslide"
    }
   },
   "source": [
    "### Segmentation, annotation"
   ]
  },
  {
   "cell_type": "markdown",
   "metadata": {
    "slideshow": {
     "slide_type": "fragment"
    }
   },
   "source": [
    "<img src='./img/deeplabcut.gif'>\n",
    "(Mathis <i>et al.</i>, 2018)"
   ]
  },
  {
   "cell_type": "markdown",
   "metadata": {
    "slideshow": {
     "slide_type": "subslide"
    }
   },
   "source": [
    "<img src='./img/astrocytes.webp'>\n",
    "(Suleymanova *et al.*, 2018)"
   ]
  },
  {
   "cell_type": "markdown",
   "metadata": {
    "slideshow": {
     "slide_type": "subslide"
    }
   },
   "source": [
    "### Transcription, translation"
   ]
  },
  {
   "cell_type": "markdown",
   "metadata": {
    "slideshow": {
     "slide_type": "fragment"
    }
   },
   "source": [
    "<img src='./img/translation.png'>\n",
    "(Cho, 2015)"
   ]
  },
  {
   "cell_type": "markdown",
   "metadata": {
    "slideshow": {
     "slide_type": "subslide"
    }
   },
   "source": [
    "### Synthesis and sampling\n",
    "- Generate examples *similar* to training data.\n",
    "- Implicit distribution (no single \"correct\" output)"
   ]
  },
  {
   "cell_type": "markdown",
   "metadata": {},
   "source": [
    "<video src=\"./img/gan_faces.mp4\" type=\"video/mp4\" controls>Uh oh.</video><br>\n",
    "(Karras <i>et al.</i>, 2018)"
   ]
  },
  {
   "cell_type": "markdown",
   "metadata": {
    "slideshow": {
     "slide_type": "subslide"
    }
   },
   "source": [
    "<video src=\"./img/ramen.mp4\" type=\"video/mp4\" controls>Uh oh.</video><br>\n",
    "(<a href='https://www.youtube.com/watch?v=Rnj2RLycHA4'>Kenji Doi</a>)"
   ]
  },
  {
   "cell_type": "markdown",
   "metadata": {
    "slideshow": {
     "slide_type": "subslide"
    }
   },
   "source": [
    "### Missing value imputation\n",
    "- $\\mathbf{x}\\in\\mathbb{R}^n$ with some $x_i$ missing\n",
    "- Compare to sampling (partial)."
   ]
  },
  {
   "cell_type": "markdown",
   "metadata": {
    "slideshow": {
     "slide_type": "subslide"
    }
   },
   "source": [
    "### Denoising\n",
    "- Predict clean example $\\mathbf{x}\\in\\mathbb{R}^n$ given a corrupted example $\\tilde{\\mathbf{x}}\\in\\mathbb{R}^n$.\n",
    "- Unknown corruption process; i.e. learn $p(\\mathbf{x}|\\tilde{\\mathbf{x}})$"
   ]
  },
  {
   "cell_type": "markdown",
   "metadata": {
    "slideshow": {
     "slide_type": "subslide"
    }
   },
   "source": [
    "<img src='./img/denoising.png'>\n",
    "(Lehtinen <i>et al.</i>, 2018)"
   ]
  },
  {
   "cell_type": "markdown",
   "metadata": {
    "slideshow": {
     "slide_type": "subslide"
    }
   },
   "source": [
    "### Probability mass/density estimation\n",
    "- Implicitly subsumes other tasks\n",
    "- Learn $p(\\mathbf{x})$ $\\rightarrow$ other tasks <!-- (e.g. missing value imputation). -->\n",
    "  - e.g. generative model with p(A)=0.5"
   ]
  },
  {
   "cell_type": "markdown",
   "metadata": {
    "slideshow": {
     "slide_type": "fragment"
    }
   },
   "source": [
    "<img src='./img/simplex.svg' style='width: 25%;'/>\n",
    "(Cho, 2015)"
   ]
  },
  {
   "cell_type": "markdown",
   "metadata": {
    "slideshow": {
     "slide_type": "slide"
    }
   },
   "source": [
    "## The performance measure, $P$\n",
    "<div class=\"alert alert-block alert-warning\">\n",
    "    <b>How do we quantify how well the system is performing the task?</b>\n",
    "</div>\n"
   ]
  },
  {
   "cell_type": "markdown",
   "metadata": {
    "slideshow": {
     "slide_type": "fragment"
    }
   },
   "source": [
    "- Quantitative\n",
    "- Task-specific\n",
    "- Choice not obvious <!-- penalize frequent small mistakes or infrequent large mistakes? Global vs. local errors? -->\n",
    "- e.g. classification: accuracy and error rate (expected 0-1 loss)"
   ]
  },
  {
   "cell_type": "markdown",
   "metadata": {
    "slideshow": {
     "slide_type": "slide"
    }
   },
   "source": [
    "## The experience, $E$\n",
    "<div class=\"alert alert-block alert-warning\">\n",
    "    <b>What learning method is used?</b>\n",
    "</div>"
   ]
  },
  {
   "cell_type": "markdown",
   "metadata": {
    "slideshow": {
     "slide_type": "fragment"
    }
   },
   "source": [
    "- <b>Datasets</b>: collections of many examples/data points\n",
    "- <b>Design matrix</b>\n",
    "  - e.g. $\\mathit{\\mathbf{X}}\\in\\mathbb{R}^{150\\times4}$ for 150 examples, 4 features.\n",
    "  - Not always possible; heterogeneous examples described as sets: $$\\{\\mathbf{x}^{(1)},\\mathbf{x}^{(2)},\\dots,\\mathbf{x}^{(m)}\\}$$"
   ]
  },
  {
   "cell_type": "markdown",
   "metadata": {
    "slideshow": {
     "slide_type": "subslide"
    }
   },
   "source": [
    "### Unsupervised learning\n",
    "- Experience a dataset with many features and learn useful structural properties\n",
    "- Typically want to learn the entire probability distribution that generated the dataset (explicitly or not)\n",
    "- Learn $p(\\mathbf{x})$ from $\\mathbf{x}$ examples."
   ]
  },
  {
   "cell_type": "markdown",
   "metadata": {
    "slideshow": {
     "slide_type": "subslide"
    }
   },
   "source": [
    "### Unsupervised learning: Clustering\n",
    "<img src='./img/clustering.svg' style='width: 50%;'/>\n",
    "(Image <a href='https://developers.google.com/machine-learning/clustering/clustering-algorithms'>reproduced from work</a> created and shared by Google and used according to terms described in the Creative Commons 4.0 Attribution License.)"
   ]
  },
  {
   "cell_type": "markdown",
   "metadata": {
    "slideshow": {
     "slide_type": "subslide"
    }
   },
   "source": [
    "### Supervised learning\n",
    "- Each example experienced is associated with a label or target.\n",
    "  - Labels may be simple numbers (e.g. class numbers) or more complex (e.g. correctly transcribed sentence).\n",
    "- Learn $p(\\mathbf{y}|\\mathbf{x})$ from $(\\mathbf{x},\\mathbf{y})$ examples."
   ]
  },
  {
   "cell_type": "markdown",
   "metadata": {
    "slideshow": {
     "slide_type": "fragment"
    }
   },
   "source": [
    "<img src='./img/supervised.svg' style='width: 50%;'/>"
   ]
  },
  {
   "cell_type": "markdown",
   "metadata": {
    "slideshow": {
     "slide_type": "subslide"
    }
   },
   "source": [
    "### Supervised vs. unsupervised\n",
    "- Chain rule: decompose unsupervised problem into $n$ supervised problems: \n",
    "$$p(\\mathbf{x})=\\prod_{i=1}^{n}p(\\mathrm{x}_i|\\mathrm{x}_1,\\dots,\\mathrm{x}_{i-1})$$\n",
    "- Conditional probability: solve supervised problem by learning joint distribution\n",
    "$$p(y|\\mathbf{x})=\\frac{p(\\mathbf{x},y)}{\\sum_{y^\\prime}p(\\mathbf{x},y^\\prime)}$$"
   ]
  },
  {
   "cell_type": "markdown",
   "metadata": {
    "slideshow": {
     "slide_type": "fragment"
    }
   },
   "source": [
    "<div class=\"alert alert-block alert-warning\">\n",
    "    Traditionally, regression, classification, and structured output are considered supervised; density estimation is considered unsupervised.\n",
    "</div>"
   ]
  },
  {
   "cell_type": "markdown",
   "metadata": {
    "slideshow": {
     "slide_type": "subslide"
    }
   },
   "source": [
    "### Other paradigms\n",
    "- <b>Semi-supervised</b>: only some example labelled)\n",
    "- <b>Multi-instance</b>: collections of examples labelled\n",
    "- <b>Reinforcement learning</b>: feedback between learning system and experiences"
   ]
  },
  {
   "cell_type": "markdown",
   "metadata": {
    "slideshow": {
     "slide_type": "fragment"
    }
   },
   "source": [
    "<img src='./img/learning-1.svg' style='width: 50%;'/>"
   ]
  },
  {
   "cell_type": "markdown",
   "metadata": {
    "slideshow": {
     "slide_type": "subslide"
    }
   },
   "source": [
    "<img src='./img/learning-2.svg' style='width: 50%;'/>"
   ]
  },
  {
   "cell_type": "markdown",
   "metadata": {
    "slideshow": {
     "slide_type": "notes"
    }
   },
   "source": [
    "A useful metaphor, if you don't have a strong intuition for what \"model\" means. "
   ]
  },
  {
   "cell_type": "markdown",
   "metadata": {
    "slideshow": {
     "slide_type": "subslide"
    }
   },
   "source": [
    "<img src='./img/learning-3b.svg' style='width: 50%;'/>"
   ]
  },
  {
   "cell_type": "markdown",
   "metadata": {
    "slideshow": {
     "slide_type": "subslide"
    }
   },
   "source": [
    "<img src='./img/learning-3.svg' style='width: 50%;'/>"
   ]
  },
  {
   "cell_type": "markdown",
   "metadata": {
    "slideshow": {
     "slide_type": "notes"
    }
   },
   "source": [
    "- Simplification: brain has highly entangled/hierarchical predictions and decisions\n",
    "- What is \"everything else\"? e.g. brain implicitly learns nerve delays"
   ]
  },
  {
   "cell_type": "markdown",
   "metadata": {
    "slideshow": {
     "slide_type": "subslide"
    }
   },
   "source": [
    "<div class=\"alert alert-block alert-warning\">\n",
    "    <b>\"the process of learning itself is not the task\"</b>\n",
    "</div>"
   ]
  },
  {
   "cell_type": "markdown",
   "metadata": {
    "slideshow": {
     "slide_type": "fragment"
    }
   },
   "source": [
    "<img src='./img/learning-1.svg' style='width: 50%;'/>"
   ]
  },
  {
   "cell_type": "markdown",
   "metadata": {
    "slideshow": {
     "slide_type": "subslide"
    }
   },
   "source": [
    "<img src='./img/learning-4.svg' style='width: 50%;'/>"
   ]
  },
  {
   "cell_type": "markdown",
   "metadata": {
    "slideshow": {
     "slide_type": "subslide"
    }
   },
   "source": [
    "<img src='./img/learning-6.svg' style='width: 50%;'/>"
   ]
  },
  {
   "cell_type": "markdown",
   "metadata": {
    "slideshow": {
     "slide_type": "notes"
    }
   },
   "source": [
    "A useful metaphor, if you don't have a strong intuition for what \"model\" means. "
   ]
  },
  {
   "cell_type": "markdown",
   "metadata": {
    "slideshow": {
     "slide_type": "slide"
    }
   },
   "source": [
    "## What is learning?\n"
   ]
  },
  {
   "cell_type": "markdown",
   "metadata": {
    "slideshow": {
     "slide_type": "subslide"
    }
   },
   "source": [
    "### Evolution\n",
    "  - Chemical thermodynamics, metastability\n",
    "  - Chemical to cellular to multicellular to nervous\n",
    "  <img src='./img/chem_evolution.jpg'>\n",
    "  (Kitadai & Maruyama, 2018)"
   ]
  },
  {
   "cell_type": "markdown",
   "metadata": {
    "slideshow": {
     "slide_type": "subslide"
    }
   },
   "source": [
    "### Correlational learning\n",
    "  - System does not reflect on causality.\n",
    "  - Often stereotyped/predictable responses.\n",
    "  - Circadian entrainment\n",
    "  - Single neuron? PFC damage example?"
   ]
  },
  {
   "cell_type": "markdown",
   "metadata": {
    "slideshow": {
     "slide_type": "subslide"
    }
   },
   "source": [
    "### Correlation learning\n",
    "#### Kalman filter\n",
    "<img src='./img/KalmanFilter.png'>\n",
    "([Modelica Buildings Library](https://simulationresearch.lbl.gov/modelica/))"
   ]
  },
  {
   "cell_type": "markdown",
   "metadata": {
    "slideshow": {
     "slide_type": "subslide"
    }
   },
   "source": [
    "### Causal learning\n",
    "  - Structure and abstractions\n",
    "  - Planning and design\n",
    "  <img src='./img/causal.jpg' style='width: 50%;'/>\n",
    "  (Braun <i>et al.</i>, 2009)"
   ]
  },
  {
   "cell_type": "markdown",
   "metadata": {
    "slideshow": {
     "slide_type": "notes"
    }
   },
   "source": [
    "Simpler models tend to have built-in assumptions about structure. \n",
    "More complex models of causality + bounded rationality tend to involve reinforcement learning, thinking about thinking (e.g. how much effort should I allocate to learning about subset X of the data?), and learning itself becomes part of the task."
   ]
  },
  {
   "cell_type": "markdown",
   "metadata": {
    "slideshow": {
     "slide_type": "slide"
    }
   },
   "source": [
    "## Generalization\n",
    "<div class=\"alert alert-block alert-info\">\n",
    "    <b>How does a model perform on previously unseen inputs?</b>\n",
    "</div>"
   ]
  },
  {
   "cell_type": "markdown",
   "metadata": {
    "slideshow": {
     "slide_type": "fragment"
    }
   },
   "source": [
    "- Training vs. generalization error.\n",
    "- Can only observe training set.\n",
    "- Shared data generating process (i.i.d.)."
   ]
  },
  {
   "cell_type": "code",
   "execution_count": 25,
   "metadata": {
    "slideshow": {
     "slide_type": "subslide"
    }
   },
   "outputs": [],
   "source": [
    "import numpy as np\n",
    "import matplotlib.pyplot as plt"
   ]
  },
  {
   "cell_type": "code",
   "execution_count": 26,
   "metadata": {
    "slideshow": {
     "slide_type": "fragment"
    }
   },
   "outputs": [],
   "source": [
    "def quadratic(x, loc=0., scale=1.):\n",
    "    return scale * (x - loc)**2"
   ]
  },
  {
   "cell_type": "code",
   "execution_count": 27,
   "metadata": {
    "slideshow": {
     "slide_type": "fragment"
    }
   },
   "outputs": [],
   "source": [
    "from functools import partial\n",
    "\n",
    "# a little trick to fix the parameters of this function\n",
    "gen_func = partial(quadratic, loc=0.5, scale=-1.)"
   ]
  },
  {
   "cell_type": "code",
   "execution_count": 28,
   "metadata": {
    "slideshow": {
     "slide_type": "subslide"
    }
   },
   "outputs": [],
   "source": [
    "def get_dataset(N, gen_func, noise_scale, domain=(0.0, 1.0)):\n",
    "    # uniformly sample across example domain\n",
    "    x = np.random.uniform(*domain, size=N)\n",
    "\n",
    "    # take value of generating function at sampled locations\n",
    "    # & corrupt with Gaussian noise\n",
    "    noise = np.random.normal(loc=0.0, scale=noise_scale, size=N)\n",
    "    y = gen_func(x) + noise\n",
    "    \n",
    "    return x, y"
   ]
  },
  {
   "cell_type": "code",
   "execution_count": 29,
   "metadata": {
    "slideshow": {
     "slide_type": "subslide"
    }
   },
   "outputs": [],
   "source": [
    "N, N_test = 20, 10  # number of examples\n",
    "noise_scale = 0.025  # SD of Gaussian noise added to generating distribution\n",
    "\n",
    "x, y = get_dataset(N, gen_func, noise_scale)\n",
    "x_test, y_test = get_dataset(N_test, gen_func, noise_scale)"
   ]
  },
  {
   "cell_type": "code",
   "execution_count": 30,
   "metadata": {
    "slideshow": {
     "slide_type": "fragment"
    }
   },
   "outputs": [],
   "source": [
    "# sample the (uncorrupted) generating function on a regular grid, for plotting\n",
    "x_grid = np.linspace(0, 1, 100)\n",
    "y_true = gen_func(x_grid)"
   ]
  },
  {
   "cell_type": "code",
   "execution_count": 31,
   "metadata": {
    "scrolled": true,
    "slideshow": {
     "slide_type": "subslide"
    }
   },
   "outputs": [
    {
     "data": {
      "image/png": "[encoded data removed]",
      "text/plain": [
       "<Figure size 432x288 with 1 Axes>"
      ]
     },
     "metadata": {
      "needs_background": "light"
     },
     "output_type": "display_data"
    }
   ],
   "source": [
    "plt.plot(x, y, 'bo')\n",
    "plt.plot(x_test, y_test, 'ro')\n",
    "plt.plot(x_grid, y_true, 'g-')\n",
    "xlim = plt.xlim()  # keep limits for plots to follow\n",
    "ylim = plt.ylim()\n",
    "plt.show()"
   ]
  },
  {
   "cell_type": "markdown",
   "metadata": {
    "slideshow": {
     "slide_type": "subslide"
    }
   },
   "source": [
    "### Capacity\n",
    "<div class=\"alert alert-block alert-info\">\n",
    "    <b>Ability of a model to fit a wide variety of functions.</b>\n",
    "</div>"
   ]
  },
  {
   "cell_type": "markdown",
   "metadata": {
    "slideshow": {
     "slide_type": "fragment"
    }
   },
   "source": [
    "- *Hypothesis space* of functions\n",
    "- Representational capacity (upper bound) vs. effective capacity\n",
    "- Too high: overfitting. Too low: underfitting.\n",
    "- Statistical learning theory: Gap between training and generalization error is bounded above by a quantity that grows with capacity, but shrinks with number of training examples.\n",
    "  - Simpler functions more likely to generalize, but must still choose a sufficiently complex hypothesis to achieve low training error.\n",
    "- Best performance: Matched to complexity of the task and the number of available examples."
   ]
  },
  {
   "cell_type": "markdown",
   "metadata": {
    "slideshow": {
     "slide_type": "fragment"
    }
   },
   "source": [
    "Examples:\n",
    "- Polynomial degree\n",
    "- Gaussian process kernels"
   ]
  },
  {
   "cell_type": "markdown",
   "metadata": {
    "slideshow": {
     "slide_type": "subslide"
    }
   },
   "source": [
    "### Underfitting and overfitting\n",
    "1. Make the training error small\n",
    "2. Make the gap between training and generalization error small."
   ]
  },
  {
   "cell_type": "markdown",
   "metadata": {
    "slideshow": {
     "slide_type": "fragment"
    }
   },
   "source": [
    "<img src='./img/generalization.png'>\n",
    "(Goodfellow <i>et al.</i>)"
   ]
  },
  {
   "cell_type": "code",
   "execution_count": 38,
   "metadata": {
    "scrolled": true,
    "slideshow": {
     "slide_type": "subslide"
    }
   },
   "outputs": [],
   "source": [
    "from sklearn import linear_model"
   ]
  },
  {
   "cell_type": "code",
   "execution_count": 39,
   "metadata": {
    "slideshow": {
     "slide_type": "fragment"
    }
   },
   "outputs": [],
   "source": [
    "# add polynomial features to design matrix\n",
    "def add_poly_terms(x, order=2):\n",
    "    X = np.zeros((x.shape[0], order))\n",
    "    X[:, 0] = np.copy(x)\n",
    "    for col in range(1, order):\n",
    "        X[:, col] = x ** (col + 1)\n",
    "    return X"
   ]
  },
  {
   "cell_type": "code",
   "execution_count": 90,
   "metadata": {
    "slideshow": {
     "slide_type": "subslide"
    }
   },
   "outputs": [],
   "source": [
    "order = 1\n",
    "X = add_poly_terms(x, order)\n",
    "\n",
    "reg = linear_model.LinearRegression().fit(X, y)\n",
    "score = reg.score(X, y)\n",
    "y_reg = reg.predict(add_poly_terms(x_grid, order))"
   ]
  },
  {
   "cell_type": "code",
   "execution_count": 91,
   "metadata": {
    "scrolled": false,
    "slideshow": {
     "slide_type": "subslide"
    }
   },
   "outputs": [
    {
     "data": {
      "image/png": "[encoded data removed]",
      "text/plain": [
       "<Figure size 432x288 with 1 Axes>"
      ]
     },
     "metadata": {
      "needs_background": "light"
     },
     "output_type": "display_data"
    }
   ],
   "source": [
    "plt.plot(x, y, 'bo')\n",
    "plt.plot(x_grid, y_true, 'g-')\n",
    "plt.plot(x_grid, y_reg, 'r-')\n",
    "plt.xlim(xlim)\n",
    "plt.ylim(ylim)\n",
    "plt.show()"
   ]
  },
  {
   "cell_type": "code",
   "execution_count": 92,
   "metadata": {},
   "outputs": [
    {
     "name": "stdout",
     "output_type": "stream",
     "text": [
      "Training error: 0.005911\n",
      "Generalization error: 0.006521\n"
     ]
    }
   ],
   "source": [
    "def mse(y, y_ref):\n",
    "    return np.mean((y - y_ref)**2)\n",
    "\n",
    "train_err = mse(reg.predict(add_poly_terms(x, order)), y)\n",
    "gen_err = mse(y_reg, y_true)\n",
    "print(\"Training error: {:.4}\".format(train_err))\n",
    "print(\"Generalization error: {:.4}\".format(gen_err))"
   ]
  },
  {
   "cell_type": "markdown",
   "metadata": {
    "slideshow": {
     "slide_type": "subslide"
    }
   },
   "source": [
    "### Number of parameters\n",
    "$$f_\\theta(x)=\\sin^2\\left(2^{rx}\\arcsin\\sqrt{\\theta}\\right)$$\n",
    "<img src='./img/single-param.png'>\n",
    "(Piantadosi, 2018)"
   ]
  },
  {
   "cell_type": "markdown",
   "metadata": {
    "slideshow": {
     "slide_type": "fragment"
    }
   },
   "source": [
    "### Ideal performance\n",
    "- Ideal model: Oracle that knows the true distribution.\n",
    "  - Errors are still possible!"
   ]
  },
  {
   "cell_type": "markdown",
   "metadata": {
    "slideshow": {
     "slide_type": "fragment"
    }
   },
   "source": [
    "- *Bayes error*: error incurred by an oracle (lower bound). <!-- e.g. overlapping true distributions -->"
   ]
  },
  {
   "cell_type": "markdown",
   "metadata": {
    "slideshow": {
     "slide_type": "subslide"
    }
   },
   "source": [
    "### Non-parametric models\n",
    "- Limit of infinite capacity; no parametrized function fixed prior to learning.\n",
    "- Example: \n",
    "  - Wrap parametric learning algorithm inside another algorithm that optimizes no. of parameters as needed.\n",
    "  - Nearest neighbour regression."
   ]
  },
  {
   "cell_type": "markdown",
   "metadata": {
    "slideshow": {
     "slide_type": "subslide"
    }
   },
   "source": [
    "<img src='./img/1nn.png'>\n",
    "(User:<a href=\"https://commons.wikimedia.org/wiki/File:Map1NN.png\">Agor153</a> @ Wikipedia)"
   ]
  },
  {
   "cell_type": "markdown",
   "metadata": {
    "slideshow": {
     "slide_type": "subslide"
    }
   },
   "source": [
    "### No Free Lunch theorem\n",
    "<div class=\"alert alert-block alert-warning\">\n",
    "    <b>\"averaged over all possible data generating distributions, every classification algorithm has the same error rate when classifying previously unobserved points\"</b>\n",
    "</div>\n"
   ]
  },
  {
   "cell_type": "markdown",
   "metadata": {
    "slideshow": {
     "slide_type": "fragment"
    }
   },
   "source": [
    "$\\rightarrow$ need to make assumptions about relevance of data generating distributions!"
   ]
  },
  {
   "cell_type": "markdown",
   "metadata": {
    "slideshow": {
     "slide_type": "subslide"
    }
   },
   "source": [
    "### Regularization\n",
    "<div class=\"alert alert-block alert-info\">\n",
    "    <b>Any modification to learning algorithm intended to <i>reduce generalization error</i> but not training error.</b>\n",
    "</div>"
   ]
  },
  {
   "cell_type": "markdown",
   "metadata": {
    "slideshow": {
     "slide_type": "fragment"
    }
   },
   "source": [
    "- Additional constraints following choice of hypothesis space."
   ]
  },
  {
   "cell_type": "markdown",
   "metadata": {
    "slideshow": {
     "slide_type": "subslide"
    }
   },
   "source": [
    "#### Weight decay\n",
    "\n",
    "$$J(\\mathbf{w})=\\mathrm{MSE_{train}}+\\lambda\\mathbf{w}^\\top\\mathbf{w}$$"
   ]
  },
  {
   "cell_type": "markdown",
   "metadata": {
    "slideshow": {
     "slide_type": "fragment"
    }
   },
   "source": [
    "- Multi-collinearity"
   ]
  },
  {
   "cell_type": "code",
   "execution_count": 97,
   "metadata": {
    "scrolled": true,
    "slideshow": {
     "slide_type": "subslide"
    }
   },
   "outputs": [],
   "source": [
    "order = 2\n",
    "alpha = 0.01\n",
    "X = add_poly_terms(x, order)\n",
    "\n",
    "reg = linear_model.LinearRegression().fit(X, y)\n",
    "y_reg = reg.predict(add_poly_terms(x_grid, order))\n",
    "reg_ridge = linear_model.Ridge(alpha=alpha).fit(X, y)\n",
    "y_ridge = reg_ridge.predict(add_poly_terms(x_grid, order))"
   ]
  },
  {
   "cell_type": "code",
   "execution_count": 98,
   "metadata": {
    "slideshow": {
     "slide_type": "subslide"
    }
   },
   "outputs": [
    {
     "data": {
      "image/png": "[encoded data removed]",
      "text/plain": [
       "<Figure size 432x288 with 1 Axes>"
      ]
     },
     "metadata": {
      "needs_background": "light"
     },
     "output_type": "display_data"
    }
   ],
   "source": [
    "plt.plot(x, y, 'bo')\n",
    "plt.plot(x_grid, y_true, 'g-')\n",
    "plt.plot(x_grid, y_reg, 'r-')\n",
    "plt.plot(x_grid, y_ridge, 'k-', lw=2)\n",
    "plt.legend(['Observed','True','Linear','Ridge'])\n",
    "plt.xlim(xlim)\n",
    "plt.ylim(ylim)\n",
    "plt.show()"
   ]
  },
  {
   "cell_type": "markdown",
   "metadata": {
    "slideshow": {
     "slide_type": "slide"
    }
   },
   "source": [
    "### Hyperparameters\n",
    "- Learning algorithm parameters\n",
    "  <br>$\\rightarrow$ not adapted by learning algorithm itself\n",
    "- Can't optimize on training set (always higher capacity)\n",
    "  - Need *validation set* (**not** test set)\n",
    "  - Traditionally: Split training set into 80%/20% training/validation\n",
    "- Example: \n",
    "  - Polynomial order; \n",
    "  - Weight decay parameter"
   ]
  },
  {
   "cell_type": "markdown",
   "metadata": {
    "slideshow": {
     "slide_type": "subslide"
    }
   },
   "source": [
    "### Cross-validation\n",
    "1. Split dataset into $k$ non-overlapping subsets\n",
    "2. $k$ trials; on trial $i$, use $i$-th subset as validation set and remainder as training set. \n",
    "3. Average trial errors to estimate overall error."
   ]
  },
  {
   "cell_type": "markdown",
   "metadata": {
    "slideshow": {
     "slide_type": "subslide"
    }
   },
   "source": [
    "<img src='./img/crossval.png'>\n",
    "(Ashfaque & Iqbal, 2019)"
   ]
  },
  {
   "cell_type": "markdown",
   "metadata": {
    "slideshow": {
     "slide_type": "slide"
    }
   },
   "source": [
    "### Point estimators\n",
    "i.e. \"statistics\"\n",
    "<div class=\"alert alert-block alert-warning\">\n",
    "    <b>What is the best prediction for a quantity?</b>\n",
    "</div>"
   ]
  },
  {
   "cell_type": "markdown",
   "metadata": {
    "slideshow": {
     "slide_type": "fragment"
    }
   },
   "source": [
    "- Any function of i.i.d. data points $\\{\\mathbf{x}^{(1)},\\dots,\\mathbf{x}^{(m)}\\}$: $$\\hat{\\mathbf{\\theta}}_m=g\\left(\\mathbf{x}^{(1)},\\dots,\\mathbf{x}^{(m)}\\right)$$\n",
    "- Good estimator: $\\hat{\\mathbf{\\theta}}$ close to underlying $\\mathbf{\\theta}$\n",
    "- Frequentism: true $\\mathbf{\\theta}$ fixed but unknown, and $\\hat{\\mathbf{\\theta}}$ is function of the data; as the data is drawn from a random process, $\\hat{\\mathbf{\\theta}}$ is a random variable.\n",
    "- Example:\n",
    "  - Weights in linear regression.\n",
    "  - Functions ($\\hat{f}$)"
   ]
  },
  {
   "cell_type": "markdown",
   "metadata": {
    "slideshow": {
     "slide_type": "subslide"
    }
   },
   "source": [
    "#### Bias\n",
    "$$\\mathrm{bias}\\left(\\hat{\\mathbf{\\theta}}_m\\right)=\\mathbb{E}\\left(\\hat{\\mathbf{\\theta}}_m\\right)-\\mathbf{\\theta}$$\n",
    "- Expectation over the data.\n",
    "- <b>Unbiased</b> estimator: $\\mathrm{bias}=0$, i.e. $\\mathbb{E}(\\hat{\\mathbf{\\theta}}_m)=\\mathbf{\\theta}$\n",
    "  - <i>Asymptotically</i> unbiased if $\\lim_{m\\rightarrow\\infty}\\mathrm{bias}(\\hat{\\mathbf{\\theta}}_m)$"
   ]
  },
  {
   "cell_type": "markdown",
   "metadata": {
    "slideshow": {
     "slide_type": "subslide"
    }
   },
   "source": [
    "#### Variance\n",
    "$$\\mathrm{Var}(\\hat\\theta)$$\n",
    "- Square root of variance: standard error, $\\mathrm{SE}(\\hat{\\theta})$\n",
    "- Expected variation in estimate as we independently resample the dataset.\n"
   ]
  },
  {
   "cell_type": "markdown",
   "metadata": {
    "slideshow": {
     "slide_type": "subslide"
    }
   },
   "source": [
    "#### Bias-variance tradeoff\n",
    "\\begin{align*}\n",
    "\\mathrm{MSE}&=\\mathbb{E}\\left[(\\hat{\\theta}_m-\\theta)^2\\right] \\\\\n",
    "            &=\\mathrm{Bias}(\\hat{\\theta}_m)^2+\\mathrm{Var}(\\hat{\\theta}_m)\n",
    "\\end{align*}\n",
    "- Typically use cross-validation\n",
    "- May also compare MSE directly\n",
    "  - MSE: Overall expected deviation\n",
    "  - Small MSE: estimator keeping both bias and variance somewhat in check"
   ]
  },
  {
   "cell_type": "markdown",
   "metadata": {
    "slideshow": {
     "slide_type": "subslide"
    }
   },
   "source": [
    "<img src='./img/tradeoff.png'>"
   ]
  },
  {
   "cell_type": "markdown",
   "metadata": {
    "slideshow": {
     "slide_type": "slide"
    }
   },
   "source": [
    "## ML vs statistics\n",
    "- Procedures/\"statistics\" vs. optimization\n",
    "  - Deciding on specific computations vs. principles"
   ]
  },
  {
   "cell_type": "markdown",
   "metadata": {
    "slideshow": {
     "slide_type": "fragment"
    }
   },
   "source": [
    "- Simpler vs. more complex ML models\n",
    "  - Linear regression: deterministic optimization\n",
    "  - Deep learning: don't assume a representation"
   ]
  },
  {
   "cell_type": "markdown",
   "metadata": {
    "slideshow": {
     "slide_type": "slide"
    }
   },
   "source": [
    "## Disentangling\n",
    "- Factors of variation\n",
    "- Separability vs. representation\n",
    "- More complex example: object identity from perspective, location"
   ]
  },
  {
   "cell_type": "markdown",
   "metadata": {
    "slideshow": {
     "slide_type": "subslide"
    }
   },
   "source": [
    "<img src='./img/pca_vs_vae-1.png'>\n",
    "(Hinton & Salakhutdinov, 2006)"
   ]
  },
  {
   "cell_type": "markdown",
   "metadata": {
    "slideshow": {
     "slide_type": "subslide"
    }
   },
   "source": [
    "<img src='./img/pca_vs_vae-2.png'>\n",
    "(Hinton & Salakhutdinov, 2006)"
   ]
  },
  {
   "cell_type": "markdown",
   "metadata": {},
   "source": [
    "<div class=\"alert alert-block alert-warning\">\n",
    "    <b>What work are we doing for our models?</b>\n",
    "</div>\n",
    "<img src='./img/representations.png'>\n",
    "(Goodfellow <i>et al.</i>)"
   ]
  },
  {
   "cell_type": "markdown",
   "metadata": {},
   "source": [
    "## Deep learning and neuroscience\n",
    "<img src='./img/deep_neuro.jpg'>\n",
    "(Yamins & DiCarlo, 2016)"
   ]
  },
  {
   "cell_type": "markdown",
   "metadata": {
    "slideshow": {
     "slide_type": "slide"
    }
   },
   "source": [
    "## Summary\n",
    "- Be careful what assumptions you make, and what work you're doing for your models:\n",
    "  - Appropriate use of test set blinding\n",
    "  - \"Overfitting by grad student\" & model decisions, inputs\n",
    "  - \"Why is my model not like a brain?\""
   ]
  },
  {
   "cell_type": "markdown",
   "metadata": {
    "slideshow": {
     "slide_type": "fragment"
    }
   },
   "source": [
    "- Use <b>cross-validation</b> to optimize hyperparameters and improve generalization"
   ]
  },
  {
   "cell_type": "markdown",
   "metadata": {
    "slideshow": {
     "slide_type": "fragment"
    }
   },
   "source": [
    "- Hold a test set aside, and only calculate test error at the <i>end</i> of study."
   ]
  },
  {
   "cell_type": "markdown",
   "metadata": {
    "slideshow": {
     "slide_type": "fragment"
    }
   },
   "source": [
    "- Think about how more complex models are <i>composed</i> from simpler models/principles."
   ]
  },
  {
   "cell_type": "markdown",
   "metadata": {
    "slideshow": {
     "slide_type": "fragment"
    }
   },
   "source": [
    "- Think about how different sources of variation/causality are entangled in data."
   ]
  }
 ],
 "metadata": {
  "celltoolbar": "Slideshow",
  "kernelspec": {
   "display_name": "Python 3",
   "language": "python",
   "name": "python3"
  },
  "language_info": {
   "codemirror_mode": {
    "name": "ipython",
    "version": 3
   },
   "file_extension": ".py",
   "mimetype": "text/x-python",
   "name": "python",
   "nbconvert_exporter": "python",
   "pygments_lexer": "ipython3",
   "version": "3.7.4"
  },
  "latex_envs": {
   "LaTeX_envs_menu_present": true,
   "autoclose": true,
   "autocomplete": true,
   "bibliofile": "biblio.bib",
   "cite_by": "apalike",
   "current_citInitial": 1,
   "eqLabelWithNumbers": true,
   "eqNumInitial": 1,
   "hotkeys": {
    "equation": "Ctrl-E",
    "itemize": "Ctrl-I"
   },
   "labels_anchors": false,
   "latex_user_defs": false,
   "report_style_numbering": false,
   "user_envs_cfg": false
  },
  "toc": {
   "base_numbering": 1,
   "nav_menu": {},
   "number_sections": true,
   "sideBar": true,
   "skip_h1_title": false,
   "title_cell": "Table of Contents",
   "title_sidebar": "Contents",
   "toc_cell": false,
   "toc_position": {
    "height": "calc(100% - 180px)",
    "left": "10px",
    "top": "150px",
    "width": "300.6px"
   },
   "toc_section_display": true,
   "toc_window_display": false
  }
 },
 "nbformat": 4,
 "nbformat_minor": 2
}
