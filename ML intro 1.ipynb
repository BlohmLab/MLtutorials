{
 "cells": [
  {
   "cell_type": "code",
   "execution_count": 4,
   "metadata": {
    "slideshow": {
     "slide_type": "skip"
    }
   },
   "outputs": [],
   "source": [
    "#from IPython.core.display import SVG, HTML"
   ]
  },
  {
   "cell_type": "markdown",
   "metadata": {
    "slideshow": {
     "slide_type": "skip"
    }
   },
   "source": [
    "[Capacity](#Capacity) <!-- cross-reference: replace spaces/special chars with hyphens -->\n",
    "<font color=blue|red|green|pink|yellow>Text</font> \n",
    "<div class=\"alert alert-block alert-danger\"><b>Hi:</b> Here's some text.</div>\n",
    "<!-- replace alert-xxxx with alert-info for blue box (tips & notes), alert-warning for yellow (examples, equations), alert-success for green (sectional summaries & similar), alert-danger for red (serious warnings/issues; use sparingly) -->\n",
    "<span class=\"badge badge-secondary\">New</span>"
   ]
  },
  {
   "cell_type": "markdown",
   "metadata": {
    "slideshow": {
     "slide_type": "slide"
    }
   },
   "source": [
    "<div class=\"jumbotron jumbotron-fluid\">\n",
    "  <div class=\"container\">\n",
    "    <h1 class=\"display-4\">Machine Learning</h1>\n",
    "    <h2 class=\"display-4\">Introduction: Part I</h1>\n",
    "  </div>\n",
    "</div>"
   ]
  },
  {
   "cell_type": "markdown",
   "metadata": {
    "slideshow": {
     "slide_type": "notes"
    }
   },
   "source": [
    "Start with some appetizers. \n",
    "- Detectron.\n",
    "- GANs.\n",
    "- VAEs?"
   ]
  },
  {
   "cell_type": "markdown",
   "metadata": {
    "slideshow": {
     "slide_type": "slide"
    }
   },
   "source": [
    "## Outline\n",
    "- Focus on philosophy, principles, and overall process (mental models for thinking about ML) rather than specific methods or deeply worked examples.\n",
    "- Learning\n",
    "- Model capacity and generalization\n",
    "- Machine learning and neuroscience\n",
    "- Worked example: capacity, overfitting, underfitting, regularization, and cross-validation"
   ]
  },
  {
   "cell_type": "markdown",
   "metadata": {
    "heading_collapsed": true,
    "slideshow": {
     "slide_type": "slide"
    }
   },
   "source": [
    "## What is a machine?"
   ]
  },
  {
   "cell_type": "markdown",
   "metadata": {
    "hidden": true,
    "slideshow": {
     "slide_type": "fragment"
    }
   },
   "source": [
    "<img src='./img/danger.png'>"
   ]
  },
  {
   "cell_type": "markdown",
   "metadata": {
    "slideshow": {
     "slide_type": "slide"
    }
   },
   "source": [
    "## What is learning?\n",
    "<div class=\"alert alert-block alert-info\">\n",
    "    <b>Improving <i>performance</i> (P) on some class of <i>tasks</i> (T) given <i>experience</i> (E).</b>\n",
    "</div>\n",
    "\n",
    "- a process of _optimization_."
   ]
  },
  {
   "cell_type": "markdown",
   "metadata": {
    "slideshow": {
     "slide_type": "fragment"
    }
   },
   "source": [
    "<img src='./img/learning-1.svg' style='width: 50%;'/>"
   ]
  },
  {
   "cell_type": "markdown",
   "metadata": {
    "slideshow": {
     "slide_type": "slide"
    }
   },
   "source": [
    "<div class=\"alert alert-block alert-warning\">\n",
    "    \"the process of learning itself is not the task\"\n",
    "</div>"
   ]
  },
  {
   "cell_type": "markdown",
   "metadata": {
    "slideshow": {
     "slide_type": "notes"
    }
   },
   "source": [
    "However, it's also easy to compare ML systems to human brains. But how can we interpret brains in terms of Fig 1?"
   ]
  },
  {
   "cell_type": "markdown",
   "metadata": {
    "slideshow": {
     "slide_type": "subslide"
    }
   },
   "source": [
    "<img src='./img/learning-2.svg' style='width: 50%;'/>"
   ]
  },
  {
   "cell_type": "markdown",
   "metadata": {
    "slideshow": {
     "slide_type": "notes"
    }
   },
   "source": [
    "A useful metaphor, if you don't have a strong intuition for what \"model\" means. "
   ]
  },
  {
   "cell_type": "markdown",
   "metadata": {
    "slideshow": {
     "slide_type": "subslide"
    }
   },
   "source": [
    "<img src='./img/learning-3.svg' style='width: 50%;'/>"
   ]
  },
  {
   "cell_type": "markdown",
   "metadata": {
    "slideshow": {
     "slide_type": "subslide"
    }
   },
   "source": [
    "<img src='./img/learning-3b.svg' style='width: 50%;'/>"
   ]
  },
  {
   "cell_type": "markdown",
   "metadata": {
    "slideshow": {
     "slide_type": "notes"
    }
   },
   "source": [
    "- This is still a huge oversimplification. \n",
    "- At best, it can apply for a single instant in time, the smallest of decisions. \n",
    "- Our brains make predictions within predictions; not only predictions about grabbing the current blueberry, but about the value of blueberry picking as an activity, about my arm getting tired... [think of better examples]\n",
    "- What is \"everything else\"? Where do we draw the boundary? Cortex vs brain stem vs spinal cord vs... The muscle is \"everything else\", on a short time scale. \n",
    "- Really, the brain and body are a complicated tangle of such reciprocal relationships between parts, all balancing to produce complex behaviour that achieves, in general, something that looks like the preceding diagrams: at each level, predictions are more or less successful enough to satisfy certain constraints (evolutionary or designed)."
   ]
  },
  {
   "cell_type": "markdown",
   "metadata": {
    "slideshow": {
     "slide_type": "notes"
    }
   },
   "source": [
    "You can mostly stick to this figure for now, and most ML models are simple enough or have well-defined inputs and outputs, and the \"model\" can be treated as a mathematical function or set of functions.\n",
    "However, the state of the art in ML is largely about learning to learn (or meta-learning)."
   ]
  },
  {
   "cell_type": "markdown",
   "metadata": {
    "slideshow": {
     "slide_type": "subslide"
    }
   },
   "source": [
    "<img src='./img/learning-1.svg' style='width: 50%;'/>"
   ]
  },
  {
   "cell_type": "markdown",
   "metadata": {
    "slideshow": {
     "slide_type": "subslide"
    }
   },
   "source": [
    "<img src='./img/learning-4.svg' style='width: 50%;'/>"
   ]
  },
  {
   "cell_type": "markdown",
   "metadata": {},
   "source": [
    "Maybe change the one below slightly: interested in how the output AND input are used to decide how to update the system. Doesn't need to look like \"all movement immediately alters the environment\" (model can be more abstract without being simplistic.)"
   ]
  },
  {
   "cell_type": "markdown",
   "metadata": {
    "slideshow": {
     "slide_type": "subslide"
    }
   },
   "source": [
    "<img src='./img/learning-6.svg' style='width: 50%;'/>"
   ]
  },
  {
   "cell_type": "markdown",
   "metadata": {
    "slideshow": {
     "slide_type": "skip"
    }
   },
   "source": [
    "### ML vs statistics\n",
    "- Procedures/\"statistics\" vs. optimization\n",
    "- Human decisions: in the past (e.g. which statistics to use) vs. deferred in the present (e.g. which learning assumptions to make)\n",
    "- Simpler vs. more complex ML models?\n",
    "  - Deep learning: automatically find structure given high-level constraints, instead of assuming which statistics are relevant"
   ]
  },
  {
   "cell_type": "markdown",
   "metadata": {
    "slideshow": {
     "slide_type": "slide"
    }
   },
   "source": [
    "## What is learning?\n",
    "<div class=\"alert alert-block alert-info\">\n",
    "    <b>Improving <i>performance</i> (P) on some class of <i>tasks</i> (T) given <i>experience</i> (E).</b>\n",
    "</div>"
   ]
  },
  {
   "cell_type": "markdown",
   "metadata": {
    "slideshow": {
     "slide_type": "slide"
    }
   },
   "source": [
    "## The task, $T$\n",
    "<div class=\"alert alert-block alert-warning\">\n",
    "    What is the system learning to do? \n",
    "</div>"
   ]
  },
  {
   "cell_type": "markdown",
   "metadata": {
    "slideshow": {
     "slide_type": "notes"
    }
   },
   "source": [
    "Robot tasks:"
   ]
  },
  {
   "cell_type": "markdown",
   "metadata": {
    "slideshow": {
     "slide_type": "fragment"
    }
   },
   "source": [
    "- Walking\n",
    "- Holding a cup\n",
    "- Avoiding an obstacle"
   ]
  },
  {
   "cell_type": "markdown",
   "metadata": {
    "slideshow": {
     "slide_type": "subslide"
    }
   },
   "source": [
    "## The task, $T$\n",
    "\n",
    "ML systems processing *examples* composed of _features_\n",
    "  - Typically vectors $\\mathbf{x}\\in\\mathbb{R}^n$ with $n$ features\n",
    "\\begin{equation*}\n",
    "f:\\mathbb{R}^n\\rightarrow ?\n",
    "\\end{equation*}"
   ]
  },
  {
   "cell_type": "markdown",
   "metadata": {
    "slideshow": {
     "slide_type": "subslide"
    }
   },
   "source": [
    "### Classification\n",
    "<div class=\"alert alert-block alert-info\">\n",
    "Which of $k$ categories does an input belong to?\n",
    "<br><br>\n",
    "\\begin{equation*}\n",
    "f:\\mathbb{R}^n\\rightarrow\\{1,\\dots,k\\}\n",
    "\\end{equation*}\n",
    "</div>"
   ]
  },
  {
   "cell_type": "markdown",
   "metadata": {},
   "source": [
    "- May also output distribution over classes\n",
    "- Missing values (learn *set* of functions)\n",
    "- Anomaly detection (e.g. spam, credit card fraud)"
   ]
  },
  {
   "cell_type": "markdown",
   "metadata": {
    "slideshow": {
     "slide_type": "subslide"
    }
   },
   "source": [
    "<img src='./img/MNIST.jpg'>\n",
    "(Liu *et al.*, 2003)\n",
    "- What it *doesn't* do: understand numbers or math. Only shapes. This is all it learns, to satisfy its constraints."
   ]
  },
  {
   "cell_type": "markdown",
   "metadata": {},
   "source": [
    "### Classification\n",
    "Example: CNN architecture. \n",
    "Explanation: constrain with simple principle (location invariance: convolutions) but don't impose a human-decided set of calculations."
   ]
  },
  {
   "cell_type": "markdown",
   "metadata": {
    "slideshow": {
     "slide_type": "subslide"
    }
   },
   "source": [
    "### Classification in neuroscience\n",
    "- Classify neuron type from electrophysiology data\n",
    "- Classify disease state from neuroimaging data (e.g. tumour in structural MRI)\n",
    "- Predict class (e.g. \"currently reaching\" vs. \"resting\") from brain measurements"
   ]
  },
  {
   "cell_type": "markdown",
   "metadata": {
    "slideshow": {
     "slide_type": "subslide"
    }
   },
   "source": [
    "<img src='./img/astrocytes.webp'>\n",
    "(Suleymanova *et al.*, 2018)"
   ]
  },
  {
   "cell_type": "markdown",
   "metadata": {
    "slideshow": {
     "slide_type": "subslide"
    }
   },
   "source": [
    "<img src='./img/gcn.png'>\n",
    "(Arslan *et al.*, 2018)"
   ]
  },
  {
   "cell_type": "markdown",
   "metadata": {
    "slideshow": {
     "slide_type": "subslide"
    }
   },
   "source": [
    "### Regression\n",
    "<div class=\"alert alert-block alert-info\">\n",
    "What value (of some quantity) is associated with a given input?\n",
    "<br><br>\n",
    "\\begin{equation*}\n",
    "f:\\mathbb{R}^n\\rightarrow\\mathbb{R}\n",
    "\\end{equation*}\n",
    "</div>"
   ]
  },
  {
   "cell_type": "markdown",
   "metadata": {},
   "source": [
    "Examples:    \n",
    "  - Linear regression\n",
    "  - Neuroscience:    \n",
    "    - Predict *level*/*quantity*: firing rate, survival time, gene expression"
   ]
  },
  {
   "cell_type": "markdown",
   "metadata": {
    "slideshow": {
     "slide_type": "subslide"
    }
   },
   "source": [
    "### Structured output\n",
    "- Output is a vector or some other structure with relationships between members.\n",
    "- Technically subsumes all other mapping tasks.\n",
    "- Examples:\n",
    "  - Partition of input (e.g. superpixels)\n",
    "  - Image captioning (sentence describing image)\n",
    "  - Parsing sentences into a tree describing grammatical structure"
   ]
  },
  {
   "cell_type": "markdown",
   "metadata": {
    "slideshow": {
     "slide_type": "notes"
    }
   },
   "source": [
    "The Deep Learning book gives a bunch of other examples..."
   ]
  },
  {
   "cell_type": "markdown",
   "metadata": {
    "slideshow": {
     "slide_type": "subslide"
    }
   },
   "source": [
    "### Transcription, translation\n",
    "- Transcription: Observe a relatively unstructured representation and transcribe into discrete, textual form. \n",
    "  - e.g. OCR, speech recognition\n",
    "- Translation: Sequence of symbols in one language to sequence of symbols in another language."
   ]
  },
  {
   "cell_type": "markdown",
   "metadata": {
    "slideshow": {
     "slide_type": "fragment"
    }
   },
   "source": [
    "<img src='./img/translation.png'>\n",
    "(Cho, 2015)"
   ]
  },
  {
   "cell_type": "markdown",
   "metadata": {
    "slideshow": {
     "slide_type": "subslide"
    }
   },
   "source": [
    "### Synthesis and sampling\n",
    "- Output is a newly generated example that is *similar* to the training data.\n",
    "- Like structured output, but without a single correct output for each (implicit distribution).\n",
    "- Examples\n",
    "  - Generate audio for given sentence\n",
    "  \n",
    "## GAN example"
   ]
  },
  {
   "cell_type": "markdown",
   "metadata": {
    "slideshow": {
     "slide_type": "subslide"
    }
   },
   "source": [
    "### Missing value imputation\n",
    "- $\\mathbf{x}\\in\\mathbb{R}^n$ with some $x_i$ missing\n",
    "- Compare to sampling (partial)."
   ]
  },
  {
   "cell_type": "markdown",
   "metadata": {
    "slideshow": {
     "slide_type": "subslide"
    }
   },
   "source": [
    "### Denoising\n",
    "- Predict clean example $\\mathbf{x}\\in\\mathbb{R}^n$ given a corrupted example $\\tilde{\\mathbf{x}}\\in\\mathbb{R}^n$.\n",
    "- Unknown corruption process; i.e. learn $p(\\mathbf{x}|\\tilde{\\mathbf{x}})$"
   ]
  },
  {
   "cell_type": "markdown",
   "metadata": {
    "slideshow": {
     "slide_type": "fragment"
    }
   },
   "source": [
    "<img src='./img/denoising.png'>\n",
    "(Lehtinen <i>et al.</i>, 2018)"
   ]
  },
  {
   "cell_type": "markdown",
   "metadata": {
    "slideshow": {
     "slide_type": "subslide"
    }
   },
   "source": [
    "### Probability mass/density estimation\n",
    "- Implicitly subsumes other tasks\n",
    "  - once we have explicitly obtained $p(\\mathbf{x})$ we can perform the other tasks as well (e.g. missing value imputation).\n",
    "  - e.g. a generative model that produces samples, and half the samples it produces belong in a certain category A; implicitly, the behaviour of the model says p(A)=0.5\n",
    "- $p_\\mathrm{model}:\\mathbb{R}^n\\rightarrow\\mathbb{R}$"
   ]
  },
  {
   "cell_type": "markdown",
   "metadata": {},
   "source": [
    "<img src='./img/simplex.svg' style='width: 25%;'/>\n",
    "(Cho, 2015)"
   ]
  },
  {
   "cell_type": "markdown",
   "metadata": {
    "slideshow": {
     "slide_type": "slide"
    }
   },
   "source": [
    "## The performance measure, $P$\n",
    "<div class=\"alert alert-block alert-warning\">\n",
    "    How do we quantify how well the system is performing the task?\n",
    "</div>\n"
   ]
  },
  {
   "cell_type": "markdown",
   "metadata": {},
   "source": [
    "- Quantitative\n",
    "- Task-specific\n",
    "- Choice not obvious <!-- penalize frequent small mistakes or infrequent large mistakes? Global vs. local errors? -->\n",
    "- Accuracy and error rate (expected 0-1 loss)"
   ]
  },
  {
   "cell_type": "markdown",
   "metadata": {
    "slideshow": {
     "slide_type": "slide"
    }
   },
   "source": [
    "## The experience, $E$\n",
    "- Datasets: collections of many examples/data points\n",
    "- Design matrix\n",
    "  - e.g. $\\mathit{\\mathbf{X}}\\in\\mathbb{R}^{150\\times4}$ for irises (150 examples, 4 features). $X_{i,1}$ is the sepal length of plant $i$.\n",
    "  - Not always possibly; some data (e.g. images of different sizes) are heterogeneous and are described as sets instead of matrices: $\\{\\mathbf{x}^{(1)},\\mathbf{x}^{(2)},\\dots,\\mathbf{x}^{(m)}\\}$\n"
   ]
  },
  {
   "cell_type": "markdown",
   "metadata": {
    "slideshow": {
     "slide_type": "subslide"
    }
   },
   "source": [
    "### Unsupervised learning\n",
    "- Experience a dataset with many features and learn useful structural properties\n",
    "- Typically want to learn the entire probability distribution that generated the dataset (explicitly or not)\n",
    "- Learn $p(\\mathbf{x})$ from $\\mathbf{x}$ examples.\n",
    "- e.g. clustering: model learns to produce a partitioning that transforms the input according to certain principles embodied by the model and the learning method."
   ]
  },
  {
   "cell_type": "markdown",
   "metadata": {},
   "source": [
    "### Unsupervised learning: Clustering"
   ]
  },
  {
   "cell_type": "markdown",
   "metadata": {
    "slideshow": {
     "slide_type": "subslide"
    }
   },
   "source": [
    "### Supervised learning\n",
    "- Each example experienced is associated with a label or target.\n",
    "  - Labels may be simple numbers (e.g. class numbers) or more complex (e.g. correctly transcribed sentence).\n",
    "- Learn $p(\\mathbf{y}|\\mathbf{x})$ from $(\\mathbf{x},\\mathbf{y})$ examples."
   ]
  },
  {
   "cell_type": "markdown",
   "metadata": {},
   "source": [
    "<img src='./img/supervised.svg'>"
   ]
  },
  {
   "cell_type": "markdown",
   "metadata": {
    "slideshow": {
     "slide_type": "subslide"
    }
   },
   "source": [
    "### Supervised vs. unsupervised\n",
    "- Given the chain rule, an unsupervised problem may be decomposed into $n$ supervised problems: \n",
    "$$p(\\mathbf{x})=\\prod_{i=1}^{n}p(\\mathrm{x}_i|\\mathrm{x}_1,\\dots,\\mathrm{x}_{i-1})$$\n",
    "- By the definition of the conditional density, a supervised problem may be solved by unsupervised learning of the joint distribution:\n",
    "$$p(y|\\mathbf{x})=\\frac{p(\\mathbf{x},y)}{\\sum_{y^\\prime}p(\\mathbf{x},y^\\prime)}$$\n",
    "- In any case, these terms help to roughly categorize problems. Traditionally, regression, classification, and structured output are considered supervised; density estimation is considered unsupervised."
   ]
  },
  {
   "cell_type": "markdown",
   "metadata": {
    "slideshow": {
     "slide_type": "subslide"
    }
   },
   "source": [
    "### Other paradigms\n",
    "- Semi-supervised (only some example labelled)\n",
    "- Multi-instance (entire collections of examples labelled)\n",
    "- Reinforcement learning (environment; feedback between learning system and experiences)"
   ]
  },
  {
   "cell_type": "markdown",
   "metadata": {
    "slideshow": {
     "slide_type": "slide"
    }
   },
   "source": [
    "## What is learning?\n"
   ]
  },
  {
   "cell_type": "markdown",
   "metadata": {
    "slideshow": {
     "slide_type": "notes"
    }
   },
   "source": [
    "It's not obvious what these things are, though you might think of specific examples. \n",
    "Let's start from the bottom up, from first principles of learning to more complex ones."
   ]
  },
  {
   "cell_type": "markdown",
   "metadata": {
    "slideshow": {
     "slide_type": "subslide"
    }
   },
   "source": [
    "### Evolution\n",
    "  - Process of optimization\n",
    "    - Chemical thermodynamics, metastability\n",
    "  - Chemical to cellular to multicellular to nervous\n",
    "  - Evolutionary algorithms\n",
    "  <img src='./img/chem_evolution.jpg'>\n",
    "  (Kitadai & Maruyama, 2018)"
   ]
  },
  {
   "cell_type": "markdown",
   "metadata": {
    "slideshow": {
     "slide_type": "subslide"
    }
   },
   "source": [
    "### Correlational learning\n",
    "  - System does not reflect on causality.\n",
    "  - Often stereotyped/predictable responses.\n",
    "  - Circadian entrainment\n",
    "  - Single neuron? PFC damage example?"
   ]
  },
  {
   "cell_type": "markdown",
   "metadata": {
    "slideshow": {
     "slide_type": "subslide"
    }
   },
   "source": [
    "### Correlation learning\n",
    "#### Kalman filter\n",
    "<img src='./img/KalmanFilter.png'>\n",
    "([Modelica Buildings Library](https://simulationresearch.lbl.gov/modelica/))"
   ]
  },
  {
   "cell_type": "markdown",
   "metadata": {
    "slideshow": {
     "slide_type": "subslide"
    }
   },
   "source": [
    "### Causal learning\n",
    "  - Structure and abstractions\n",
    "  - Planning and design\n",
    "  <img src='./img/causal.jpg'>\n",
    "  (Braun <i>et al.</i>, 2009)"
   ]
  },
  {
   "cell_type": "markdown",
   "metadata": {
    "slideshow": {
     "slide_type": "skip"
    }
   },
   "source": [
    "### Reinforcement learning\n",
    "  - Structured expectations.\n",
    "  - What outcomes are being considered? How is performance being \"measured\"?\n",
    "    - Humans: evolutionary and social (mostly para-evolutionary?) "
   ]
  },
  {
   "cell_type": "markdown",
   "metadata": {
    "slideshow": {
     "slide_type": "slide"
    }
   },
   "source": [
    "## Generalization\n",
    "- How does a model perform on previously unseen inputs?\n",
    "  - Example: Different coloured cat than in training examples.\n",
    "- Training error vs. test/generalization error\n",
    "- Difficulty: only get to observe training set (?).\n",
    "- Data generating process: Assumption that training and test examples are identically distributed, and individual examples are independent of each other --> allows the generating process to be modeled as a distribution over a single example.\n",
    "  - Refer to shared underlying distribution as *data generating distribution* or $p_\\mathrm{data}$"
   ]
  },
  {
   "cell_type": "markdown",
   "metadata": {
    "slideshow": {
     "slide_type": "subslide"
    }
   },
   "source": [
    "### Underfitting and overfitting\n",
    "1. Make the training error small\n",
    "2. Make the gap between training and test error small."
   ]
  },
  {
   "cell_type": "markdown",
   "metadata": {
    "slideshow": {
     "slide_type": "subslide"
    }
   },
   "source": [
    "### Capacity\n",
    "- Ability of a model to fit a wide variety of functions. \n",
    "- Often controlled by choosing the *hypothesis space* of functions the learning algorithm can select as solutions.\n",
    "- Representational capacity (i.e. how well the chosen class of functions could solve the problem) vs. effective capacity (i.e. given additional limitations, such as imperfection of optimization process, how well can chosen method solve the problem? upper bound is representational capacity).\n",
    "- Often considered in terms of number of parameters... but not all parameters are equal (VC dimension: \"the largest possible value of $m$ for which there exists a training set of $m$ different examples that the classifier can label arbitrarily\").\n",
    "- Too high: overfitting. Too low: underfitting. Figure 5.2.\n",
    "- Statistical learning theory: Gap between training and generalization error is bounded above by a quantity that grows with capacity, but shrinks with number of training examples.\n",
    "  - Simpler functions more likely to generalize, but must still choose a sufficiently complex hypothesis to achieve low training error.\n",
    "- Performance is typically best when model capacity is appropriate for the complexity of the task and the number of available examples.\n",
    "- Example:\n",
    "  - Quadratic has higher capacity than linear.\n",
    "  - Pathological example (single-parameter universal approximator).\n",
    "- Ideal model: Oracle that knows the true distribution.\n",
    "  - May still make errors; e.g. due to noise inherent to generating distribution, or due to excluded variables involved in the deterministic relationship between $\\mathbf{x}$ and $y$.\n",
    "  - *Bayes error*: error incurred by an oracle. That is, the lower bound on the error."
   ]
  },
  {
   "cell_type": "markdown",
   "metadata": {
    "slideshow": {
     "slide_type": "subslide"
    }
   },
   "source": [
    "### Capacity\n",
    "#### \"Number of parameters\"\n",
    "$$f_\\theta(x)=\\sin^2\\left(2^{rx}\\arcsin\\sqrt{\\theta}\\right)$$\n",
    "<img src='./img/single-param.png'>\n",
    "(Piantadosi, 2018)"
   ]
  },
  {
   "cell_type": "markdown",
   "metadata": {
    "slideshow": {
     "slide_type": "subslide"
    }
   },
   "source": [
    "#### Non-parametric models\n",
    "- Limit of infinite capacity; no parametrized function fixed prior to learning.\n",
    "- Example: \n",
    "  - Nearest neighbour regression.\n",
    "  - Wrap parametric learning algorithm inside another algorithm that optimizes no. of parameters as needed."
   ]
  },
  {
   "cell_type": "markdown",
   "metadata": {
    "slideshow": {
     "slide_type": "subslide"
    }
   },
   "source": [
    "#### No Free Lunch theorem\n",
    "\"averaged over all possible data generating distributions, every classification algorithm has the same error rate when classifying previously unobserved points\"\n",
    "i.e. we need to make assumptions about which data generating distributions are relevant\n",
    "\n",
    "- the world is not composed of all possible data generating distributions; this theorem's relevance has to do with uncertainty and counterfactuals"
   ]
  },
  {
   "cell_type": "markdown",
   "metadata": {
    "slideshow": {
     "slide_type": "subslide"
    }
   },
   "source": [
    "### Regularization\n",
    "- Any modification to learning algorithm intended to reduce generalization error but not training error.\n",
    "- Additional preferences/penalties about the hypothesis space, above simple inclusion/exclusion.\n",
    "- e.g. weight decay, $J(\\mathbf{w})=\\mathrm{MSE_{train}}+\\lambda\\mathbf{w}^\\top\\mathbf{w}$"
   ]
  },
  {
   "cell_type": "markdown",
   "metadata": {
    "slideshow": {
     "slide_type": "slide"
    }
   },
   "source": [
    "### Hyperparameters\n",
    "- Learning algorithm settings; not adapted by learning algorithm itself\n",
    "- e.g. the degree of the polynomial in polynomial regression; $\\lambda$ for weight decay\n",
    "- Can't optimize on training set; would always optimize for higher capacity\n",
    "  - Need a *validation set* (**not** overlapping with test set)\n",
    "  - Split training set into 80%/20% training/validation\n",
    "  "
   ]
  },
  {
   "cell_type": "markdown",
   "metadata": {
    "slideshow": {
     "slide_type": "subslide"
    }
   },
   "source": [
    "### Cross-validation\n",
    "- Split dataset into $k$ non-overlapping subsets\n",
    "- $k$ trials; on trial $i$, use $i$-th subset as test set and remainder as training set. Overall test error is average of trial test errors.\n",
    "- Unfortunately there are no unbiased estimators of the variance of such average error estimators."
   ]
  },
  {
   "cell_type": "markdown",
   "metadata": {
    "slideshow": {
     "slide_type": "slide"
    }
   },
   "source": [
    "### Point estimators\n",
    "i.e. \"statistics\"\n",
    "- What is the \"best\" prediction for a quantity of interest? (a number or vector)\n",
    "  - e.g. weights in linear regression\n",
    "- Any function of i.i.d. data points $\\{\\mathbf{x}^{(1)},\\dots,\\mathbf{x}^{(m)}\\}$: $$\\hat{\\mathbf{\\theta}}_m=g\\left(\\mathbf{x}^{(1)},\\dots,\\mathbf{x}^{(m)}\\right)$$\n",
    "- Good estimator has $\\hat{\\mathbf{\\theta}}$ close to underlying $\\mathbf{\\theta}$\n",
    "- Frequentist perspective: true value $\\mathbf{\\theta}$ is fixed but unknown, and $\\hat{\\mathbf{\\theta}}$ is function of the data; as the data is drawn from a random process, $\\hat{\\mathbf{\\theta}}$ is a random variable.\n",
    "- Note: function estimation: approximate some function $f$ with a model or estimate $\\hat{f}$; this is fundamentally the same as parameter estimation, except the point estimate is in function space."
   ]
  },
  {
   "cell_type": "markdown",
   "metadata": {
    "slideshow": {
     "slide_type": "subslide"
    }
   },
   "source": [
    "#### Bias\n",
    "$$\\mathrm{bias}\\left(\\hat{\\mathbf{\\theta}}_m\\right)=\\mathbb{E}\\left(\\hat{\\mathbf{\\theta}}_m\\right)-\\mathbf{\\theta}$$\n",
    "- Expectation over the data.\n",
    "- Unbiased: $\\mathrm{bias}=0$, i.e. $\\mathbb{E}(\\hat{\\mathbf{\\theta}}_m)=\\mathbf{\\theta}$\n",
    "  - Asymptotically unbiased if $\\lim_{m\\rightarrow\\infty}\\mathrm{bias}(\\hat{\\mathbf{\\theta}}_m)$\n",
    "e.g. Bernoulli distribution, Guassian mean (see book)"
   ]
  },
  {
   "cell_type": "markdown",
   "metadata": {
    "slideshow": {
     "slide_type": "subslide"
    }
   },
   "source": [
    "#### Variance\n",
    "$$\\mathrm{Var}(\\hat\\theta)$$\n",
    "- Square root of variance: standard error, $\\mathrm{SE}(\\hat{\\theta})$\n",
    "- Expected variation in estimate as we independently resample the dataset.\n"
   ]
  },
  {
   "cell_type": "markdown",
   "metadata": {
    "slideshow": {
     "slide_type": "subslide"
    }
   },
   "source": [
    "#### Bias-variance tradeoff\n",
    "\\begin{align*}\n",
    "\\mathrm{MSE}&=\\mathbb{E}\\left[(\\hat{\\theta}_m-\\theta)^2\\right] \\\\\n",
    "            &=\\mathrm{Bias}(\\hat{\\theta}_m)^2+\\mathrm{Var}(\\hat{\\theta}_m)\n",
    "\\end{align*}\n",
    "- Figure 5.6\n",
    "- Typically use cross-validation; may also compare MSE directly\n",
    "  - MSE: Overall expected deviation\n",
    "  - Increasing capacity tends to increase variance and decrease bias\n",
    "  - Small MSE: estimator keeping both bias and variance somewhat in check"
   ]
  },
  {
   "cell_type": "markdown",
   "metadata": {
    "heading_collapsed": true,
    "slideshow": {
     "slide_type": "slide"
    }
   },
   "source": [
    "### Disentangling\n",
    "- Factors of variation (e.g. PCA limitations)\n",
    "- Invariance and symmetry?\n",
    "- Separability vs. representation (e.g. polar vs cartesian)\n",
    "- Another example: brain disentangling object state from illumination, perspective"
   ]
  },
  {
   "cell_type": "markdown",
   "metadata": {
    "hidden": true,
    "slideshow": {
     "slide_type": "subslide"
    }
   },
   "source": [
    "<img src='./img/pca_vs_vae-1.png'>\n",
    "(Hinton & Salakhutdinov, 2006)"
   ]
  },
  {
   "cell_type": "markdown",
   "metadata": {
    "hidden": true,
    "slideshow": {
     "slide_type": "subslide"
    }
   },
   "source": [
    "<img src='./img/pca_vs_vae-2.png'>\n",
    "(Hinton & Salakhutdinov, 2006)"
   ]
  },
  {
   "cell_type": "markdown",
   "metadata": {
    "slideshow": {
     "slide_type": "slide"
    }
   },
   "source": [
    "## \"What makes a good model\"\n",
    "Get a list (CoSMo paper?) and see if I can improve integration of the slides with these ideas."
   ]
  },
  {
   "cell_type": "markdown",
   "metadata": {},
   "source": [
    "## Deep learning and neuroscience\n",
    "<img src='./img/deep_neuro.jpg'>\n",
    "(Yamins & DiCarlo, 2016)"
   ]
  },
  {
   "cell_type": "markdown",
   "metadata": {
    "slideshow": {
     "slide_type": "slide"
    }
   },
   "source": [
    "## Summary\n",
    "- Be careful what assumptions you make, and what you *provide* for your models:\n",
    "  - Inputs: structure, processing/calculations/statistics \n",
    "  - Functional capacity\n",
    "  - Regularization or other constraints to improve generalization\n",
    "  - Resource capacity\n",
    "  - \"Overfitting by grad student\"\n",
    "- Focus on learning to balance capacity, amount of available data/examples, with the use of \n",
    "  - test sets\n",
    "  - cross-validation\n",
    "  - regularization\n",
    "- Think about how models are composed from parts"
   ]
  },
  {
   "cell_type": "markdown",
   "metadata": {},
   "source": [
    "## Demo"
   ]
  },
  {
   "cell_type": "code",
   "execution_count": 71,
   "metadata": {},
   "outputs": [],
   "source": [
    "import numpy as np\n",
    "import matplotlib.pyplot as plt"
   ]
  },
  {
   "cell_type": "code",
   "execution_count": 72,
   "metadata": {},
   "outputs": [],
   "source": [
    "def quadratic(x, loc=0., scale=1.):\n",
    "    return scale * (x - loc)**2"
   ]
  },
  {
   "cell_type": "markdown",
   "metadata": {
    "slideshow": {
     "slide_type": "notes"
    }
   },
   "source": [
    "By fixing the parameters of this function, we can define `gen_func` and refer to it as such later; this preserves the generality of the code that follows, and also the generality of the quadratic function."
   ]
  },
  {
   "cell_type": "code",
   "execution_count": 73,
   "metadata": {},
   "outputs": [],
   "source": [
    "from functools import partial\n",
    "\n",
    "# a little trick to fix the parameters of this function\n",
    "gen_func = partial(quadratic, loc=0.5, scale=-1.)"
   ]
  },
  {
   "cell_type": "code",
   "execution_count": 104,
   "metadata": {},
   "outputs": [],
   "source": [
    "N = 350  # number of examples\n",
    "noise_scale = 0.025  # SD of Gaussian noise added to generating distribution\n",
    "\n",
    "# uniformly sample across example domain\n",
    "x = np.random.uniform(low=0.0, high=1.0, size=N)\n",
    "\n",
    "# take value of generating function at sampled locations\n",
    "# & corrupt with Gaussian noise\n",
    "noise = np.random.normal(loc=0.0, scale=noise_scale, size=N)\n",
    "y = gen_func(x) + noise"
   ]
  },
  {
   "cell_type": "code",
   "execution_count": 105,
   "metadata": {},
   "outputs": [],
   "source": [
    "# sample the (uncorrupted) generating function on a regular grid, for plotting\n",
    "x_grid = np.linspace(0, 1, 100)\n",
    "y_true = gen_func(x_grid)"
   ]
  },
  {
   "cell_type": "code",
   "execution_count": 106,
   "metadata": {},
   "outputs": [
    {
     "data": {
      "image/png": "[encoded data removed]",
      "text/plain": [
       "<Figure size 432x288 with 1 Axes>"
      ]
     },
     "metadata": {
      "needs_background": "light"
     },
     "output_type": "display_data"
    }
   ],
   "source": [
    "plt.plot(x, y, 'bo')\n",
    "plt.plot(x_grid, true_func, 'g-')\n",
    "xlim = plt.xlim()  # keep limits for plots to follow\n",
    "ylim = plt.ylim()\n",
    "plt.show()"
   ]
  },
  {
   "cell_type": "code",
   "execution_count": 107,
   "metadata": {},
   "outputs": [],
   "source": [
    "from sklearn import linear_model"
   ]
  },
  {
   "cell_type": "code",
   "execution_count": 108,
   "metadata": {},
   "outputs": [],
   "source": [
    "def add_poly_terms(x, order=2):\n",
    "    X = np.zeros((x.shape[0], order))\n",
    "    X[:, 0] = np.copy(x)\n",
    "    for col in range(1, order):\n",
    "        X[:, col] = x ** (col + 1)\n",
    "    return X"
   ]
  },
  {
   "cell_type": "code",
   "execution_count": 109,
   "metadata": {},
   "outputs": [],
   "source": [
    "order = 2\n",
    "X = add_poly_terms(x, order)\n",
    "\n",
    "reg = linear_model.LinearRegression().fit(X, y)\n",
    "score = reg.score(X, y)\n",
    "y_reg = reg.predict(add_poly_terms(x_grid, order))"
   ]
  },
  {
   "cell_type": "code",
   "execution_count": 110,
   "metadata": {},
   "outputs": [
    {
     "data": {
      "image/png": "[encoded data removed]",
      "text/plain": [
       "<Figure size 432x288 with 1 Axes>"
      ]
     },
     "metadata": {
      "needs_background": "light"
     },
     "output_type": "display_data"
    }
   ],
   "source": [
    "plt.plot(x, y, 'bo')\n",
    "plt.plot(x_grid, true_func, 'g-')\n",
    "plt.plot(x_grid, y_reg, 'r-')\n",
    "plt.xlim(xlim)\n",
    "plt.ylim(ylim)\n",
    "plt.show()"
   ]
  },
  {
   "cell_type": "code",
   "execution_count": 112,
   "metadata": {},
   "outputs": [
    {
     "data": {
      "text/plain": [
       "(-0.3157234808940951, 0.061854306601706516)"
      ]
     },
     "execution_count": 112,
     "metadata": {},
     "output_type": "execute_result"
    },
    {
     "data": {
      "image/png": "[encoded data removed]",
      "text/plain": [
       "<Figure size 432x288 with 1 Axes>"
      ]
     },
     "metadata": {
      "needs_background": "light"
     },
     "output_type": "display_data"
    }
   ],
   "source": [
    "order = 2\n",
    "X = add_poly_terms(x, order)\n",
    "reg_lasso = linear_model.Lasso(alpha=0.01).fit(X, y)\n",
    "reg_ridge = linear_model.Ridge(alpha=0.01).fit(X, y)\n",
    "y_lasso = reg_lasso.predict(add_poly_terms(x_grid, order))\n",
    "y_ridge = reg_ridge.predict(add_poly_terms(x_grid, order))\n",
    "\n",
    "plt.plot(x, y, 'bo')\n",
    "plt.plot(x_grid, true_func, 'g-')\n",
    "plt.plot(x_grid, y_lasso, 'r-')\n",
    "plt.plot(x_grid, y_ridge, '-')\n",
    "plt.legend(['Observed','True','Lasso','Ridge'])\n",
    "plt.xlim(xlim)\n",
    "plt.ylim(ylim)"
   ]
  },
  {
   "cell_type": "code",
   "execution_count": null,
   "metadata": {},
   "outputs": [],
   "source": []
  },
  {
   "cell_type": "code",
   "execution_count": null,
   "metadata": {},
   "outputs": [],
   "source": []
  }
 ],
 "metadata": {
  "celltoolbar": "Slideshow",
  "kernelspec": {
   "display_name": "Python 3",
   "language": "python",
   "name": "python3"
  },
  "language_info": {
   "codemirror_mode": {
    "name": "ipython",
    "version": 3
   },
   "file_extension": ".py",
   "mimetype": "text/x-python",
   "name": "python",
   "nbconvert_exporter": "python",
   "pygments_lexer": "ipython3",
   "version": "3.7.4"
  },
  "latex_envs": {
   "LaTeX_envs_menu_present": true,
   "autoclose": true,
   "autocomplete": true,
   "bibliofile": "biblio.bib",
   "cite_by": "apalike",
   "current_citInitial": 1,
   "eqLabelWithNumbers": true,
   "eqNumInitial": 1,
   "hotkeys": {
    "equation": "Ctrl-E",
    "itemize": "Ctrl-I"
   },
   "labels_anchors": false,
   "latex_user_defs": false,
   "report_style_numbering": false,
   "user_envs_cfg": false
  },
  "toc": {
   "base_numbering": 1,
   "nav_menu": {},
   "number_sections": true,
   "sideBar": true,
   "skip_h1_title": false,
   "title_cell": "Table of Contents",
   "title_sidebar": "Contents",
   "toc_cell": false,
   "toc_position": {
    "height": "calc(100% - 180px)",
    "left": "10px",
    "top": "150px",
    "width": "300.6px"
   },
   "toc_section_display": true,
   "toc_window_display": false
  }
 },
 "nbformat": 4,
 "nbformat_minor": 2
}
