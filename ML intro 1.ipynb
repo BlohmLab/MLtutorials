{
 "cells": [
  {
   "cell_type": "markdown",
   "metadata": {
    "slideshow": {
     "slide_type": "slide"
    }
   },
   "source": [
    "Goodfellow ~Ch 5.1-5.4\n",
    "- Learning algorithms\n",
    "    - Performance measure (P) improves with experience (E) on tasks in a class (T) \n",
    "    - Task (T): Doesn't include learning itself\n",
    "        - Classification: which of k categories does input belong to?\n",
    "        -\n",
    "    - ML systems considered as processing _examples_ composed of _features_\n",
    "        - Typically represented as vectors $\\mathbf{x}\\in\\mathbb{R}^n$ of $n$ features\n",
    "- Capacity, overfitting, underfitting\n",
    "- Hyperparameters & validation sets\n",
    "- Estimators, bias, variance"
   ]
  },
  {
   "cell_type": "markdown",
   "metadata": {},
   "source": [
    "### What is learning?\n",
    "- Performance (P) improves given experience (E) with tasks in some class of tasks (T)\n",
    "- Learning is not the task, but the process that enables performance on the task (limitations)\n",
    "- Definitions: Programs, algorithms, and processes (stochasticity?)\n",
    "- "
   ]
  },
  {
   "cell_type": "markdown",
   "metadata": {
    "slideshow": {
     "slide_type": "slide"
    }
   },
   "source": [
    "### Tasks\n"
   ]
  },
  {
   "cell_type": "markdown",
   "metadata": {
    "slideshow": {
     "slide_type": "skip"
    }
   },
   "source": [
    "Overfitting and underfitting: fitting polynomials (matching order; but real order unknown)"
   ]
  },
  {
   "cell_type": "markdown",
   "metadata": {},
   "source": [
    "VC dimension and capacity: single-parameter counterexample"
   ]
  }
 ],
 "metadata": {
  "celltoolbar": "Slideshow",
  "kernelspec": {
   "display_name": "Python 3",
   "language": "python",
   "name": "python3"
  },
  "language_info": {
   "codemirror_mode": {
    "name": "ipython",
    "version": 3
   },
   "file_extension": ".py",
   "mimetype": "text/x-python",
   "name": "python",
   "nbconvert_exporter": "python",
   "pygments_lexer": "ipython3",
   "version": "3.7.4"
  }
 },
 "nbformat": 4,
 "nbformat_minor": 2
}
